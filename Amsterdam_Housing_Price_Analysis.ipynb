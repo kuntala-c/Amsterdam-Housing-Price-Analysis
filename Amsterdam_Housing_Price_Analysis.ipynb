{
 "cells": [
  {
   "cell_type": "code",
   "execution_count": null,
   "id": "d402cecd",
   "metadata": {},
   "outputs": [],
   "source": [
    "# Amsterdam Housing Price Analysis: By Kuntala & Nafisa"
   ]
  },
  {
   "cell_type": "code",
   "execution_count": 106,
   "id": "2cff0d56",
   "metadata": {
    "ExecuteTime": {
     "end_time": "2021-11-03T23:06:03.698588Z",
     "start_time": "2021-11-03T23:06:03.693069Z"
    }
   },
   "outputs": [],
   "source": [
    "import numpy as np\n",
    "import pandas as pd\n",
    "import matplotlib.pyplot as plt\n",
    "import seaborn as sns"
   ]
  },
  {
   "cell_type": "markdown",
   "id": "ea72cbbb",
   "metadata": {},
   "source": [
    "# Loading of the data file"
   ]
  },
  {
   "cell_type": "code",
   "execution_count": 40,
   "id": "0e083968",
   "metadata": {
    "ExecuteTime": {
     "end_time": "2021-11-03T12:07:06.799980Z",
     "start_time": "2021-11-03T12:07:06.745398Z"
    }
   },
   "outputs": [],
   "source": [
    "df1=pd.read_csv(\"HousingPrices-Amsterdam-August-2021.csv\",index_col=\"Unnamed: 0\")"
   ]
  },
  {
   "cell_type": "markdown",
   "id": "d2772c77",
   "metadata": {},
   "source": [
    "## Data shape and structure"
   ]
  },
  {
   "cell_type": "code",
   "execution_count": 3,
   "id": "66cdb006",
   "metadata": {
    "ExecuteTime": {
     "end_time": "2021-11-03T08:22:50.208116Z",
     "start_time": "2021-11-03T08:22:50.199877Z"
    }
   },
   "outputs": [
    {
     "data": {
      "text/plain": [
       "(924, 7)"
      ]
     },
     "execution_count": 3,
     "metadata": {},
     "output_type": "execute_result"
    }
   ],
   "source": [
    "df1.shape"
   ]
  },
  {
   "cell_type": "code",
   "execution_count": 4,
   "id": "3386b21e",
   "metadata": {
    "ExecuteTime": {
     "end_time": "2021-11-03T08:22:51.452428Z",
     "start_time": "2021-11-03T08:22:51.447439Z"
    }
   },
   "outputs": [
    {
     "data": {
      "text/plain": [
       "Index(['Address', 'Zip', 'Price', 'Area', 'Room', 'Lon', 'Lat'], dtype='object')"
      ]
     },
     "execution_count": 4,
     "metadata": {},
     "output_type": "execute_result"
    }
   ],
   "source": [
    "df1.columns"
   ]
  },
  {
   "cell_type": "code",
   "execution_count": 39,
   "id": "80de97c3",
   "metadata": {
    "ExecuteTime": {
     "end_time": "2021-11-03T12:06:40.419818Z",
     "start_time": "2021-11-03T12:06:40.183360Z"
    }
   },
   "outputs": [
    {
     "data": {
      "text/html": [
       "<div>\n",
       "<style scoped>\n",
       "    .dataframe tbody tr th:only-of-type {\n",
       "        vertical-align: middle;\n",
       "    }\n",
       "\n",
       "    .dataframe tbody tr th {\n",
       "        vertical-align: top;\n",
       "    }\n",
       "\n",
       "    .dataframe thead th {\n",
       "        text-align: right;\n",
       "    }\n",
       "</style>\n",
       "<table border=\"1\" class=\"dataframe\">\n",
       "  <thead>\n",
       "    <tr style=\"text-align: right;\">\n",
       "      <th></th>\n",
       "      <th>Address</th>\n",
       "      <th>Zip</th>\n",
       "      <th>Price</th>\n",
       "      <th>Area</th>\n",
       "      <th>Room</th>\n",
       "      <th>Lon</th>\n",
       "      <th>Lat</th>\n",
       "    </tr>\n",
       "  </thead>\n",
       "  <tbody>\n",
       "    <tr>\n",
       "      <th>1</th>\n",
       "      <td>Blasiusstraat 8 2, Amsterdam</td>\n",
       "      <td>1091 CR</td>\n",
       "      <td>685000.0</td>\n",
       "      <td>64</td>\n",
       "      <td>3</td>\n",
       "      <td>4.907736</td>\n",
       "      <td>52.356157</td>\n",
       "    </tr>\n",
       "    <tr>\n",
       "      <th>2</th>\n",
       "      <td>Kromme Leimuidenstraat 13 H, Amsterdam</td>\n",
       "      <td>1059 EL</td>\n",
       "      <td>475000.0</td>\n",
       "      <td>60</td>\n",
       "      <td>3</td>\n",
       "      <td>4.850476</td>\n",
       "      <td>52.348586</td>\n",
       "    </tr>\n",
       "    <tr>\n",
       "      <th>3</th>\n",
       "      <td>Zaaiersweg 11 A, Amsterdam</td>\n",
       "      <td>1097 SM</td>\n",
       "      <td>850000.0</td>\n",
       "      <td>109</td>\n",
       "      <td>4</td>\n",
       "      <td>4.944774</td>\n",
       "      <td>52.343782</td>\n",
       "    </tr>\n",
       "    <tr>\n",
       "      <th>4</th>\n",
       "      <td>Tenerifestraat 40, Amsterdam</td>\n",
       "      <td>1060 TH</td>\n",
       "      <td>580000.0</td>\n",
       "      <td>128</td>\n",
       "      <td>6</td>\n",
       "      <td>4.789928</td>\n",
       "      <td>52.343712</td>\n",
       "    </tr>\n",
       "    <tr>\n",
       "      <th>5</th>\n",
       "      <td>Winterjanpad 21, Amsterdam</td>\n",
       "      <td>1036 KN</td>\n",
       "      <td>720000.0</td>\n",
       "      <td>138</td>\n",
       "      <td>5</td>\n",
       "      <td>4.902503</td>\n",
       "      <td>52.410538</td>\n",
       "    </tr>\n",
       "  </tbody>\n",
       "</table>\n",
       "</div>"
      ],
      "text/plain": [
       "                                  Address      Zip     Price Area  Room  \\\n",
       "1            Blasiusstraat 8 2, Amsterdam  1091 CR  685000.0   64     3   \n",
       "2  Kromme Leimuidenstraat 13 H, Amsterdam  1059 EL  475000.0   60     3   \n",
       "3              Zaaiersweg 11 A, Amsterdam  1097 SM  850000.0  109     4   \n",
       "4            Tenerifestraat 40, Amsterdam  1060 TH  580000.0  128     6   \n",
       "5              Winterjanpad 21, Amsterdam  1036 KN  720000.0  138     5   \n",
       "\n",
       "        Lon        Lat  \n",
       "1  4.907736  52.356157  \n",
       "2  4.850476  52.348586  \n",
       "3  4.944774  52.343782  \n",
       "4  4.789928  52.343712  \n",
       "5  4.902503  52.410538  "
      ]
     },
     "execution_count": 39,
     "metadata": {},
     "output_type": "execute_result"
    }
   ],
   "source": [
    "df1.head()"
   ]
  },
  {
   "cell_type": "markdown",
   "id": "5df5c0b0",
   "metadata": {},
   "source": [
    "# Data Cleaning"
   ]
  },
  {
   "cell_type": "markdown",
   "id": "a5f60a0e",
   "metadata": {},
   "source": [
    "## Handle missing values"
   ]
  },
  {
   "cell_type": "code",
   "execution_count": 5,
   "id": "880289bc",
   "metadata": {
    "ExecuteTime": {
     "end_time": "2021-11-03T08:22:54.936436Z",
     "start_time": "2021-11-03T08:22:54.925103Z"
    }
   },
   "outputs": [
    {
     "data": {
      "text/plain": [
       "Address    0\n",
       "Zip        0\n",
       "Price      4\n",
       "Area       0\n",
       "Room       0\n",
       "Lon        0\n",
       "Lat        0\n",
       "dtype: int64"
      ]
     },
     "execution_count": 5,
     "metadata": {},
     "output_type": "execute_result"
    }
   ],
   "source": [
    "df1.isnull().sum()"
   ]
  },
  {
   "cell_type": "code",
   "execution_count": 6,
   "id": "fac749bd",
   "metadata": {
    "ExecuteTime": {
     "end_time": "2021-11-03T08:22:58.473389Z",
     "start_time": "2021-11-03T08:22:58.456783Z"
    }
   },
   "outputs": [
    {
     "data": {
      "text/plain": [
       "Address    0\n",
       "Zip        0\n",
       "Price      0\n",
       "Area       0\n",
       "Room       0\n",
       "Lon        0\n",
       "Lat        0\n",
       "dtype: int64"
      ]
     },
     "execution_count": 6,
     "metadata": {},
     "output_type": "execute_result"
    }
   ],
   "source": [
    "df2=df1.dropna() \n",
    "df2.isnull().sum() # to check after dropping missing"
   ]
  },
  {
   "cell_type": "code",
   "execution_count": 7,
   "id": "047d632c",
   "metadata": {
    "ExecuteTime": {
     "end_time": "2021-11-03T08:23:00.625799Z",
     "start_time": "2021-11-03T08:23:00.620669Z"
    }
   },
   "outputs": [
    {
     "data": {
      "text/plain": [
       "(920, 7)"
      ]
     },
     "execution_count": 7,
     "metadata": {},
     "output_type": "execute_result"
    }
   ],
   "source": [
    "df2.shape"
   ]
  },
  {
   "cell_type": "markdown",
   "id": "27c75f52",
   "metadata": {},
   "source": [
    "## Handle duplicates"
   ]
  },
  {
   "cell_type": "code",
   "execution_count": 8,
   "id": "78b16931",
   "metadata": {
    "ExecuteTime": {
     "end_time": "2021-11-03T08:23:02.036313Z",
     "start_time": "2021-11-03T08:23:02.021218Z"
    }
   },
   "outputs": [
    {
     "data": {
      "text/html": [
       "<div>\n",
       "<style scoped>\n",
       "    .dataframe tbody tr th:only-of-type {\n",
       "        vertical-align: middle;\n",
       "    }\n",
       "\n",
       "    .dataframe tbody tr th {\n",
       "        vertical-align: top;\n",
       "    }\n",
       "\n",
       "    .dataframe thead th {\n",
       "        text-align: right;\n",
       "    }\n",
       "</style>\n",
       "<table border=\"1\" class=\"dataframe\">\n",
       "  <thead>\n",
       "    <tr style=\"text-align: right;\">\n",
       "      <th></th>\n",
       "      <th>Address</th>\n",
       "      <th>Zip</th>\n",
       "      <th>Price</th>\n",
       "      <th>Area</th>\n",
       "      <th>Room</th>\n",
       "      <th>Lon</th>\n",
       "      <th>Lat</th>\n",
       "    </tr>\n",
       "  </thead>\n",
       "  <tbody>\n",
       "    <tr>\n",
       "      <th>910</th>\n",
       "      <td>Quashibastraat, Amsterdam</td>\n",
       "      <td>1087 VS</td>\n",
       "      <td>348738.0</td>\n",
       "      <td>79</td>\n",
       "      <td>4</td>\n",
       "      <td>5.016555</td>\n",
       "      <td>52.350513</td>\n",
       "    </tr>\n",
       "  </tbody>\n",
       "</table>\n",
       "</div>"
      ],
      "text/plain": [
       "                       Address      Zip     Price Area  Room       Lon  \\\n",
       "910  Quashibastraat, Amsterdam  1087 VS  348738.0   79     4  5.016555   \n",
       "\n",
       "           Lat  \n",
       "910  52.350513  "
      ]
     },
     "execution_count": 8,
     "metadata": {},
     "output_type": "execute_result"
    }
   ],
   "source": [
    "df2[df2.duplicated()]"
   ]
  },
  {
   "cell_type": "code",
   "execution_count": 9,
   "id": "b77c5384",
   "metadata": {
    "ExecuteTime": {
     "end_time": "2021-11-03T08:23:04.150880Z",
     "start_time": "2021-11-03T08:23:04.133862Z"
    }
   },
   "outputs": [
    {
     "name": "stdout",
     "output_type": "stream",
     "text": [
      "0\n"
     ]
    },
    {
     "name": "stderr",
     "output_type": "stream",
     "text": [
      "/home/kuntalac/miniconda3/lib/python3.9/site-packages/pandas/util/_decorators.py:311: SettingWithCopyWarning: \n",
      "A value is trying to be set on a copy of a slice from a DataFrame\n",
      "\n",
      "See the caveats in the documentation: https://pandas.pydata.org/pandas-docs/stable/user_guide/indexing.html#returning-a-view-versus-a-copy\n",
      "  return func(*args, **kwargs)\n"
     ]
    }
   ],
   "source": [
    "df2.drop_duplicates(inplace=True)\n",
    "\n",
    "print(df2.duplicated().sum())  #to check after dropping duplicates "
   ]
  },
  {
   "cell_type": "code",
   "execution_count": 10,
   "id": "1d2921b4",
   "metadata": {
    "ExecuteTime": {
     "end_time": "2021-11-03T08:23:07.653838Z",
     "start_time": "2021-11-03T08:23:07.640391Z"
    }
   },
   "outputs": [
    {
     "data": {
      "text/plain": [
       "(919, 7)"
      ]
     },
     "execution_count": 10,
     "metadata": {},
     "output_type": "execute_result"
    }
   ],
   "source": [
    "df2.shape"
   ]
  },
  {
   "cell_type": "code",
   "execution_count": null,
   "id": "3b3efd86",
   "metadata": {},
   "outputs": [],
   "source": []
  },
  {
   "cell_type": "code",
   "execution_count": 11,
   "id": "36f58c01",
   "metadata": {
    "ExecuteTime": {
     "end_time": "2021-11-03T08:23:09.341819Z",
     "start_time": "2021-11-03T08:23:09.319969Z"
    }
   },
   "outputs": [
    {
     "data": {
      "text/plain": [
       "array(['Blasiusstraat 8 2, Amsterdam',\n",
       "       'Kromme Leimuidenstraat 13 H, Amsterdam',\n",
       "       'Zaaiersweg 11 A, Amsterdam', 'Tenerifestraat 40, Amsterdam',\n",
       "       'Winterjanpad 21, Amsterdam', 'De Wittenkade 134 I, Amsterdam',\n",
       "       'Pruimenstraat 18 B, Amsterdam', 'Da Costakade 32 II, Amsterdam',\n",
       "       'Postjeskade 41 2, Amsterdam', 'Van Ostadestraat 193 H, Amsterdam',\n",
       "       'Sloterkade 152 1, Amsterdam', 'KNSM-laan 609, Amsterdam',\n",
       "       'Blasiusstraat 17 II, Amsterdam', 'Amstel 124 B, Amsterdam',\n",
       "       'Blasiusstraat 50 II, Amsterdam', 'Suikerpeerpad 39, Amsterdam',\n",
       "       'Paramaribostraat 122 3, Amsterdam',\n",
       "       'Burgemeester Hogguerstraat 273, Amsterdam',\n",
       "       'Anna Blamansingel 274 VII, Amsterdam',\n",
       "       'Oostzaanstraat 271, Amsterdam', 'Keizersgracht 171 F, Amsterdam',\n",
       "       'Cornelis Troostplein 2 2, Amsterdam',\n",
       "       'Thorn Prikkerstraat 93, Amsterdam', 'Kramatweg 58 A, Amsterdam',\n",
       "       'Bramzeilhof 56, Amsterdam', 'Bruinvisstraat 36, Amsterdam',\n",
       "       'Arent Janszoon Ernststraat 41, Amsterdam',\n",
       "       'Willem de Zwijgerlaan 115 II, Amsterdam',\n",
       "       'Colenbranderhof 30, Amsterdam', 'Dusartstraat 33 2, Amsterdam',\n",
       "       'Churchill-laan 37 A, Amsterdam', 'Prinseneiland 545, Amsterdam',\n",
       "       'Van Tuyll van Serooskerkenweg 86 H, Amsterdam',\n",
       "       'Vondelstraat 51 hs, Amsterdam', 'Kinkerstraat 215 D, Amsterdam',\n",
       "       'Oldengaarde 116, Amsterdam',\n",
       "       'Rustenburgerstraat 154 2, Amsterdam',\n",
       "       'J.J. Cremerplein 24 II, Amsterdam',\n",
       "       'Oostenburgergracht 41 A, Amsterdam',\n",
       "       'C.J.K. van Aalststraat 94 PP, Amsterdam',\n",
       "       'John Franklinstraat 38 3, Amsterdam',\n",
       "       'Potgieterstraat 23 IV, Amsterdam', 'Wamelstraat 76, Amsterdam',\n",
       "       'Nieuwe Prinsengracht 48 G, Amsterdam',\n",
       "       'Commelinstraat 9 H, Amsterdam', 'Orteliusstraat 309 I, Amsterdam',\n",
       "       'Tweede Ceramstraat 10, Amsterdam',\n",
       "       '1e Kekerstraat 77 PP, Amsterdam',\n",
       "       'Rietveld Schröderpad 15, Amsterdam',\n",
       "       'Beemsterstraat 98, Amsterdam', 'Postjesweg 341, Amsterdam',\n",
       "       'Eastonstraat 86, Amsterdam', 'Adrichemstraat 15, Amsterdam',\n",
       "       'Vijzelstraat 91, Amsterdam', 'IJdoornlaan 1449 F, Amsterdam',\n",
       "       'Amstelveenseweg 184 III, Amsterdam', 'Zuideinde 387 D, Amsterdam',\n",
       "       'Amstel 13, Amsterdam', 'Egidiusstraat 42 3, Amsterdam',\n",
       "       'Zeeburgerdijk 578, Amsterdam', 'Groetstraat 201, Amsterdam',\n",
       "       'Jan Haringstraat 32 I, Amsterdam',\n",
       "       'Crynssenstraat 74 2, Amsterdam',\n",
       "       'Churchill-laan 254 3, Amsterdam', 'Overtoom 502 I, Amsterdam',\n",
       "       'Wieringerwaardstraat 226, Amsterdam',\n",
       "       'Wiltzanghlaan 31 I, Amsterdam',\n",
       "       'Faas Wilkesstraat 321 PP, Amsterdam',\n",
       "       'Fahrenheitsingel 17, Amsterdam', 'Bankastraat 39 D, Amsterdam',\n",
       "       'Toutenburgstraat 75, Amsterdam', 'Vegastraat 97, Amsterdam',\n",
       "       'Hofwijckstraat 22 III, Amsterdam',\n",
       "       'Sam van Houtenstraat 191 C, Amsterdam',\n",
       "       'Het Hoogt 180, Amsterdam', 'Van Hilligaertstraat 32 C, Amsterdam',\n",
       "       'Wethouder Wierdelsstraat 6, Amsterdam',\n",
       "       'Van Houweningenstraat 66 2, Amsterdam',\n",
       "       'Ternatestraat 174, Amsterdam', 'Hudsonstraat 55 hs, Amsterdam',\n",
       "       'Maarten Jansz. Kosterstraat 10, Amsterdam',\n",
       "       'Spaarndammerplantsoen 20, Amsterdam',\n",
       "       'Driehoekstraat 72, Amsterdam', 'Admiraliteitstraat 48, Amsterdam',\n",
       "       'Willem de Zwijgerlaan 334 E15, Amsterdam',\n",
       "       'De Wittenkade 23 2V, Amsterdam', 'Keizersgracht 343 F, Amsterdam',\n",
       "       'Geschutswerf 81, Amsterdam', 'Bilderdijkkade 22 IV, Amsterdam',\n",
       "       'Jan Mankesstraat 13 hs, Amsterdam',\n",
       "       'Sassenheimstraat 30 1, Amsterdam',\n",
       "       'Oudezijds Voorburgwal 161 E, Amsterdam',\n",
       "       'Amstelveenseweg 186 4A, Amsterdam',\n",
       "       'Nova Zemblastraat 544, Amsterdam',\n",
       "       'Achillesstraat 113 2, Amsterdam', 'Parnassusweg 151, Amsterdam',\n",
       "       'Lamarckhof 11 I, Amsterdam',\n",
       "       'Cornelis van Vollenhovenstraat 4 B, Amsterdam',\n",
       "       'Van Boetzelaerstraat 73 II, Amsterdam',\n",
       "       'Pretoriusstraat 11 II, Amsterdam',\n",
       "       'Wittgensteinlaan 137, Amsterdam',\n",
       "       'Prinsengracht 201 E, Amsterdam', 'Westeinde 16, Amsterdam',\n",
       "       'Groenhoven 453, Amsterdam',\n",
       "       'Reinier Claeszenstraat 74 3, Amsterdam',\n",
       "       'Waterkeringweg 49, Amsterdam',\n",
       "       'Lange Leidsedwarsstraat 95 C, Amsterdam',\n",
       "       'Lange Leidsedwarsstraat 32 B, Amsterdam',\n",
       "       'Vrijheidslaan 14 I, Amsterdam', 'Heemstedestraat 10 I, Amsterdam',\n",
       "       'Veldzicht 85, Amsterdam', 'Rijswijkstraat 69, Amsterdam',\n",
       "       'Steenderenstraat 74, Amsterdam', 'Sijsjesstraat 12, Amsterdam',\n",
       "       'Oudezijds Voorburgwal 93 B, Amsterdam', 'Mijehof 285, Amsterdam',\n",
       "       'Blasiusstraat 63 2, Amsterdam',\n",
       "       'Dirk Vreekenstraat 72, Amsterdam', 'Langswater 278, Amsterdam',\n",
       "       'Jisperveldstraat 371, Amsterdam', 'Funenpark 316, Amsterdam',\n",
       "       'Tielstraat 53, Amsterdam', 'Panamakade 66, Amsterdam',\n",
       "       'Van Oldenbarneveldtstraat 22 II, Amsterdam',\n",
       "       'Amstelvlietstraat 193, Amsterdam', 'Haparandaweg 750, Amsterdam',\n",
       "       'Prins Hendrikkade 510 K, Amsterdam',\n",
       "       'Afrikanerplein 118, Amsterdam', 'Anne Frankstraat 224, Amsterdam',\n",
       "       'Alkmaarstraat 277, Amsterdam', 'Geuzenkade 46 H, Amsterdam',\n",
       "       'Borgerstraat 29 D, Amsterdam', 'Prinsenstraat 4, Amsterdam',\n",
       "       'Schotse Hooglanden 4, Amsterdam',\n",
       "       'Van Spilbergenstraat 69 II, Amsterdam',\n",
       "       'Cliostraat 23 HS, Amsterdam', 'Windroosplein 96, Amsterdam',\n",
       "       'Nachtwachtlaan 345, Amsterdam',\n",
       "       'Antony Moddermanstraat 178, Amsterdam',\n",
       "       'Wevelgemstraat 8, Amsterdam', 'Reigersbos 251, Amsterdam',\n",
       "       'Rubensstraat 26 2, Amsterdam', 'Herengracht 193 C, Amsterdam',\n",
       "       'Jozef Israëlskade 30 B, Amsterdam',\n",
       "       'Tollensstraat 321, Amsterdam', 'Kinkerstraat 326 1, Amsterdam',\n",
       "       'Hogevecht 47, Amsterdam', 'Van Boshuizenstraat 135, Amsterdam',\n",
       "       'J.G. Suurhoffstraat 123, Amsterdam',\n",
       "       'Lijnbaansgracht 188 H, Amsterdam',\n",
       "       'Ank van der Moerstraat 29, Amsterdam',\n",
       "       'Osdorpplein 57, Amsterdam', 'Wieringerwaardstraat 221, Amsterdam',\n",
       "       'Van Boetzelaerstraat 40 H, Amsterdam',\n",
       "       'Faas Wilkesstraat 275, Amsterdam',\n",
       "       'IJsselmeerstraat 52, Amsterdam',\n",
       "       'Utrechtsedwarsstraat 4, Amsterdam', 'Neerkanne 7, Amsterdam',\n",
       "       'Dirk Bonsstraat 18 I, Amsterdam', 'Singel 32 G, Amsterdam',\n",
       "       'Amstel 186 HS, Amsterdam', 'Nieuwe Prinsengracht 8 3, Amsterdam',\n",
       "       'Plejadenplein 1, Amsterdam', 'Kikkenstein 3534, Amsterdam',\n",
       "       'Quashibastraat 42 C, Amsterdam', 'Het Breed 605, Amsterdam',\n",
       "       'Tjeukemeerhof 14, Amsterdam',\n",
       "       'Van Mourik Broekmanstraat 12 I, Amsterdam',\n",
       "       'Vrijzicht 180, Amsterdam', 'Oeverpad 482, Amsterdam',\n",
       "       'Ouderkerkerdijk 34, Amsterdam',\n",
       "       'Leonard Bernsteinstraat 96 A, Amsterdam',\n",
       "       'Westerstraat 268, Amsterdam',\n",
       "       'Nieuwezijds Voorburgwal 294 1, Amsterdam',\n",
       "       'Kleiburg 524, Amsterdam', 'Willem Leevendstraat 1 1, Amsterdam',\n",
       "       'Amstelveenseweg 970 C, Amsterdam',\n",
       "       'Henri Zagwijnstraat 14 3, Amsterdam', 'Dam 5 V, Amsterdam',\n",
       "       'Zuideinde 356, Amsterdam', \"'t Nopeind 2, Amsterdam\",\n",
       "       'Hillenraadt 46, Amsterdam', 'Archimedesweg 56, Amsterdam',\n",
       "       'Huidekoperstraat 24 F, Amsterdam',\n",
       "       'Bos en Lommerweg 360, Amsterdam', 'Groetstraat 193, Amsterdam',\n",
       "       'Catharina Boudewijnshof 51, Amsterdam',\n",
       "       'Mauritsstraat 2, Amsterdam', 'Ringvaartdijk 80, Amsterdam',\n",
       "       'Joan Melchior Kemperstraat 46 IV, Amsterdam',\n",
       "       'Nachtwachtlaan 164, Amsterdam', 'Borgerstraat 202 I, Amsterdam',\n",
       "       'Gerrit van der Veenstraat 134, Amsterdam',\n",
       "       'Pieter de Hoochstraat 25 B, Amsterdam',\n",
       "       'Keizersgracht 544, Amsterdam', 'Leerdamhof 177, Amsterdam',\n",
       "       'Willem Heselaarsstraat 70, Amsterdam', 'Singel 463 F., Amsterdam',\n",
       "       'Karel Klinkenbergstraat 1 A, Amsterdam',\n",
       "       'Noordermarkt 32 A, Amsterdam',\n",
       "       'Pieter Cornelisz. Hooftstraat 36 1 2 3, Amsterdam',\n",
       "       'Westerdok 452, Amsterdam', 'Herengracht 12 C, Amsterdam',\n",
       "       'Jan van Riebeekstraat 17 3, Amsterdam',\n",
       "       'Keizersgracht 515 R, Amsterdam',\n",
       "       'Nieuwe Keizersgracht 570 L, Amsterdam',\n",
       "       'Geldersekade 52 A, Amsterdam', 'Tenerifestraat 8, Amsterdam',\n",
       "       'Parosstraat 6, Amsterdam', 'Diemerzeedijk 76 S, Amsterdam',\n",
       "       'Karel Doormanstraat 138, Amsterdam',\n",
       "       'Lijnbaansstraat 7, Amsterdam',\n",
       "       'Frans van Mierisstraat 47 C, Amsterdam',\n",
       "       'Nicolaas Anslijnstraat 116, Amsterdam',\n",
       "       'Jan van Duivenvoordestraat 10 II, Amsterdam',\n",
       "       'Ouderkerkerdijk 42, Amsterdam', 'Baarsjesweg 313 H, Amsterdam',\n",
       "       'Prinsengracht 416 A, Amsterdam',\n",
       "       'Lange Leidsedwarsstraat 103 1 A, Amsterdam',\n",
       "       'Herengracht 116 F+K, Amsterdam', 'Entrepotdok 85 A, Amsterdam',\n",
       "       'Chasséstraat 21 III, Amsterdam', 'Fazantenweg 15 1, Amsterdam',\n",
       "       'Droogbak 5 B, Amsterdam',\n",
       "       'Nieuwe Uilenburgerstraat 9 F, Amsterdam',\n",
       "       'Beulingstraat 13 D, Amsterdam', 'Kiefskamp 24, Amsterdam',\n",
       "       'Herculesstraat 60 B, Amsterdam',\n",
       "       'Tweede Oosterparkstraat 188 2, Amsterdam',\n",
       "       'Marnixstraat 237 E, Amsterdam',\n",
       "       'Nieuwe Leliestraat 11, Amsterdam',\n",
       "       'Van Boetzelaerstraat 36 1, Amsterdam',\n",
       "       'Weesperzijde 114 huis, Amsterdam',\n",
       "       'Brouwersgracht 187 G, Amsterdam', 'Wijdesteeg 62, Amsterdam',\n",
       "       'Van der Hoopstraat 33 A2, Amsterdam',\n",
       "       'Prins Hendrikkade 156 2, Amsterdam',\n",
       "       'Willem Frederik Hermansstraat 169 PP, Amsterdam',\n",
       "       'Stadhouderskade 16 H, Amsterdam', 'Langswater 198, Amsterdam',\n",
       "       'Cliostraat 35 1, Amsterdam',\n",
       "       'Pieter de Hoochstraat 25 B +PP, Amsterdam',\n",
       "       'Uilengouw 2, Amsterdam', 'Argonautenstraat 98, Amsterdam',\n",
       "       'Kortrijk 50, Amsterdam', 'Haarlemmerstraat 98 B, Amsterdam',\n",
       "       'Laan van Vlaanderen 141 A2*, Amsterdam',\n",
       "       'Laan van Vlaanderen 141 A2, Amsterdam',\n",
       "       'Keizersgracht 131 E, Amsterdam',\n",
       "       'Fritz Dietrich Kahlenbergstraat 83, Amsterdam',\n",
       "       'Gerda Brautigamstraat 37, Amsterdam',\n",
       "       'Van Oldenbarneveldtstraat 96 A3, Amsterdam',\n",
       "       'Valeriusstraat 137 H, Amsterdam', 'Bakkersstraat 11, Amsterdam',\n",
       "       'Klaprozenweg 73 A, Amsterdam', 'Zocherstraat 23 X, Amsterdam',\n",
       "       'Dorpsstraat Holysloot 62, Amsterdam',\n",
       "       'Willem de Zwijgerlaan 334 c29, Amsterdam',\n",
       "       'Kalverstraat 218 G+2PP, Amsterdam', 'Singel 115 B, Amsterdam',\n",
       "       'Plantage Muidergracht 105 A, Amsterdam',\n",
       "       'Ruysdaelkade 107, Amsterdam', 'Ruysdaelkade 109, Amsterdam',\n",
       "       'Olympiakade 12, Amsterdam', 'Cornelis Zillesenlaan 94, Amsterdam',\n",
       "       'Binnenkant 2, Amsterdam', 'Zuideinde 417, Amsterdam',\n",
       "       'Leerdamhof 294, Amsterdam', 'Hertspieghelweg 26 huis, Amsterdam',\n",
       "       'Cas Oorthuyskade 47, Amsterdam', 'Eurokade 36, Amsterdam',\n",
       "       'Prins Hendrikkade 512, Amsterdam', 'Osdorperweg 94, Amsterdam',\n",
       "       'Borneokade 70, Amsterdam', 'Barbusselaan 77, Amsterdam',\n",
       "       'Sophialaan 45, Amsterdam', 'Duke Ellingtonstraat 46, Amsterdam',\n",
       "       'Insulindeweg 116, Amsterdam', 'Raphaëlstraat 5, Amsterdam',\n",
       "       'Amstel 102, Amsterdam', 'Singel 436 G, Amsterdam',\n",
       "       'Levantkade 170, Amsterdam', 'Vossiusstraat 6 C, Amsterdam',\n",
       "       'Bloemgracht 81 6, Amsterdam', 'Brouwersgracht 182 I, Amsterdam',\n",
       "       'Marskramerstraat 124, Amsterdam',\n",
       "       'Prins Hendrikkade 132 A, Amsterdam',\n",
       "       'Pieter Cornelisz. Hooftstraat 169 B, Amsterdam',\n",
       "       'Ladogameerhof 3, Amsterdam', 'George Gershwinlaan 177, Amsterdam',\n",
       "       'Vossiusstraat 71, Amsterdam', 'Dijkwater 189, Amsterdam',\n",
       "       'Amstel 75 F, Amsterdam',\n",
       "       'Tweede Jan van der Heijdenstraat 13, Amsterdam',\n",
       "       'Churchill-laan 216 3, Amsterdam', 'Hogevecht 186 B, Amsterdam',\n",
       "       'Valkenburgerstraat 138 A, Amsterdam',\n",
       "       'Pontsteiger 137, Amsterdam', 'Nieuwe Nieuwstraat 28, Amsterdam',\n",
       "       'Badhuiskade 353, Amsterdam',\n",
       "       'Witte de Withstraat 20 AH, Amsterdam',\n",
       "       'Mauvestraat 56 II+III, Amsterdam',\n",
       "       'Oudezijds Voorburgwal 126 A+B, Amsterdam',\n",
       "       'Singel 318, Amsterdam', 'Termietergouw 6 A, Amsterdam',\n",
       "       'Termietergouw 6, Amsterdam', 'Broekergouw 4, Amsterdam',\n",
       "       'Cliostraat 12 III, Amsterdam', 'Ward Bingleystraat 1, Amsterdam',\n",
       "       'Rapenburgerplein 8 A, Amsterdam',\n",
       "       'Rapenburgerplein 8 B, Amsterdam', 'Willem Mollhof 3, Amsterdam',\n",
       "       'De Bleeckster 1, Amsterdam', 'Prinsengracht 460 A, Amsterdam',\n",
       "       'Eerste Looiersdwarsstraat 24 E, Amsterdam',\n",
       "       'Herengracht 553 I, Amsterdam', 'Prinsengracht 1031 C, Amsterdam',\n",
       "       'Prinsengracht 1035 D, Amsterdam',\n",
       "       'Pieter van der Werfstraat 44, Amsterdam',\n",
       "       'Claus van Amsbergstraat 45, Amsterdam',\n",
       "       'Sumatrakade 1523, Amsterdam', 'Marnixstraat 255 H, Amsterdam',\n",
       "       'Oostakkerstraat 95, Amsterdam',\n",
       "       'Eerste Helmersstraat 183 III, Amsterdam',\n",
       "       'Noorderakerweg 124, Amsterdam', 'Ringvaartdijk 28, Amsterdam',\n",
       "       'Schellingwouderdijk 352 e, Amsterdam',\n",
       "       'Zeeburgerdijk 585, Amsterdam',\n",
       "       'Bernard Shawsingel 250, Amsterdam', 'Reigersbos 79, Amsterdam',\n",
       "       'Singel 146 A, Amsterdam', 'Clara Zetkinstraat 58, Amsterdam',\n",
       "       'Sarphatistraat 478, Amsterdam', 'Rupelmonde 10, Amsterdam',\n",
       "       'Westerdoksdijk 375, Amsterdam', 'Cor van Weelehof 3, Amsterdam',\n",
       "       'Linnaeusstraat 243 1., Amsterdam',\n",
       "       'Herculesstraat 124 I, Amsterdam', 'Akoleienstraat 8 4, Amsterdam',\n",
       "       'Amsteldijk 64, Amsterdam', 'Hoofdweg 34 H, Amsterdam',\n",
       "       'Wiborgeiland 146 PP, Amsterdam', 'Wiborgeiland 147 PP, Amsterdam',\n",
       "       'Nieuwevaart 10 4V, Amsterdam', 'Klaas Katerstraat 118, Amsterdam',\n",
       "       'Rozenstraat 80 E, Amsterdam',\n",
       "       'Charlotte Brontéstraat 152, Amsterdam',\n",
       "       'Vrolikstraat 292 1, Amsterdam', 'Overtoom 184 III, Amsterdam',\n",
       "       'Johan Huizingalaan 310 I, Amsterdam',\n",
       "       'Blauwvoetstraat 59, Amsterdam', 'Dikninge 105, Amsterdam',\n",
       "       \"Wethouder In 't Veldstraat 77, Amsterdam\",\n",
       "       'Amaliastraat 16 H, Amsterdam', 'Marnixkade 26 III, Amsterdam',\n",
       "       'Pieter Calandlaan 724, Amsterdam', 'Barbusselaan 261, Amsterdam',\n",
       "       'Revaleiland 383, Amsterdam', 'Marnixkade 89 1A, Amsterdam',\n",
       "       'Kanaalstraat 11 3/4, Amsterdam', 'Groenhoven 358, Amsterdam',\n",
       "       'Bilderdijkstraat 180 II, Amsterdam',\n",
       "       'Warmondstraat 176 2, Amsterdam',\n",
       "       'Linnaeusparkweg 224 HS, Amsterdam', 'Hoofdweg 241 III, Amsterdam',\n",
       "       'Roelof Hartstraat 13 II, Amsterdam',\n",
       "       'Marcantilaan 123, Amsterdam', 'Bilderdijkstraat 201 2, Amsterdam',\n",
       "       'Orteliusstraat 279 3, Amsterdam',\n",
       "       'Baden Powellweg 107, Amsterdam',\n",
       "       'Waterlandplein 290 E, Amsterdam',\n",
       "       'Wethouder Ramstraat 11, Amsterdam',\n",
       "       'Willem de Zwijgerlaan 309 I, Amsterdam',\n",
       "       'Cosmariumstraat 9, Amsterdam',\n",
       "       'Antony Moddermanstraat 222 HS, Amsterdam',\n",
       "       'Insulindeweg 920, Amsterdam', 'Loggerhof 149, Amsterdam',\n",
       "       'Bataviastraat 67 C, Amsterdam', 'Kuipersstraat 43 2, Amsterdam',\n",
       "       'Poederooienstraat 97, Amsterdam', 'Stadionweg 61 2, Amsterdam',\n",
       "       'Spadinalaan 53, Amsterdam', 'Westlandgracht 139 H, Amsterdam',\n",
       "       'Cliostraat 61 I, Amsterdam', 'Stadhouderskade 153 A, Amsterdam',\n",
       "       'Erasmusgracht 552 PP, Amsterdam', 'Silodam 446, Amsterdam',\n",
       "       'Bilderdijkstraat 177 2A, Amsterdam',\n",
       "       'Arènpalmstraat 24, Amsterdam', 'Van Ostadestraat 27 1, Amsterdam',\n",
       "       'Vincent van Goghstraat 19, Amsterdam',\n",
       "       'Geervliet 20 A, Amsterdam',\n",
       "       'Jacob van Lennepstraat 17 I, Amsterdam',\n",
       "       'Oogststraat 81, Amsterdam', 'Egidiusstraat 17 1, Amsterdam',\n",
       "       'Bentinckstraat 95 3, Amsterdam', 'Dickenslaan 146, Amsterdam',\n",
       "       'Gibraltarstraat 105 hs, Amsterdam', 'Ruimzicht 296, Amsterdam',\n",
       "       'Stoutenburggracht 11, Amsterdam',\n",
       "       'Eerste Jan Steenstraat 112 2, Amsterdam',\n",
       "       'Mercatorstraat 15 III, Amsterdam', 'Komijnstraat 24, Amsterdam',\n",
       "       'Nicolaas Anslijnstraat 108, Amsterdam',\n",
       "       'Aurikelstraat 5, Amsterdam', 'Barentszstraat 205, Amsterdam',\n",
       "       'Warmoesstraat 139 A, Amsterdam',\n",
       "       'Egelantiersstraat 142 B, Amsterdam',\n",
       "       'Gouden Leeuw 326, Amsterdam', 'Antillenstraat 28 2, Amsterdam',\n",
       "       'Borneolaan 342, Amsterdam', 'Martin Vlaarkade 97, Amsterdam',\n",
       "       'Boeninlaan 81, Amsterdam', 'Czaar Peterstraat 45 B, Amsterdam',\n",
       "       'Venetiëhof 101, Amsterdam', 'Sean MacBridestraat 16, Amsterdam',\n",
       "       'Het Hoogt 166, Amsterdam', 'Spinaker 219, Amsterdam',\n",
       "       'Papendrechtstraat 84, Amsterdam',\n",
       "       'C. Kruyswijkstraat 17, Amsterdam',\n",
       "       'Van Rappardstraat 41 H, Amsterdam',\n",
       "       'Kuipersstraat 77 H, Amsterdam', 'Magnoliastraat 10, Amsterdam',\n",
       "       'Dalsteindreef 270, Amsterdam', 'Elandsgracht 84 2, Amsterdam',\n",
       "       'Binnenzagerij 25, Amsterdam',\n",
       "       'Jan van Riebeekstraat 3 1, Amsterdam',\n",
       "       'Fahrenheitsingel 101, Amsterdam',\n",
       "       'Nieuwezijds Voorburgwal 266 2V, Amsterdam',\n",
       "       'Van Noordtkade 140, Amsterdam', 'Von Zesenstraat 225, Amsterdam',\n",
       "       'Van Bossestraat 32 I, Amsterdam',\n",
       "       'Admiraal De Ruijterweg 375 I, Amsterdam',\n",
       "       'Spaarndammerstraat 62 1, Amsterdam',\n",
       "       'Kleine Beerstraat 6, Amsterdam', 'Entrepotdok 161, Amsterdam',\n",
       "       'Johan Herman Doornstraat 26, Amsterdam',\n",
       "       'Cliostraat 21 II, Amsterdam',\n",
       "       'Nida Senffstraat 133 PP, Amsterdam',\n",
       "       'Kuipersstraat 43 HS, Amsterdam', 'Baffinstraat 13 H, Amsterdam',\n",
       "       'Werengouw 409, Amsterdam',\n",
       "       'Eerste Van Swindenstraat 203, Amsterdam',\n",
       "       'Oeverpad 221, Amsterdam',\n",
       "       'Pieter van der Meulenhof 14, Amsterdam',\n",
       "       'Madurastraat 64 1, Amsterdam',\n",
       "       'Burgemeester Cramergracht 67, Amsterdam',\n",
       "       'Van Gentstraat 6 1, Amsterdam', 'Groenhoven 864, Amsterdam',\n",
       "       'Joop Gerritzestraat 14, Amsterdam',\n",
       "       'Kleefkruidstraat 30, Amsterdam', 'Marcantilaan 225, Amsterdam',\n",
       "       'Robert Fruinlaan 24 III, Amsterdam', 'Pesetalaan 59, Amsterdam',\n",
       "       'Buiksloterbreek 35, Amsterdam',\n",
       "       'Bernard Shawsingel 336, Amsterdam',\n",
       "       'Nieuwe Keizersgracht 452, Amsterdam',\n",
       "       'Prinsengracht 1029 C, Amsterdam',\n",
       "       'Boris Pasternakstraat 427, Amsterdam',\n",
       "       'Wamelplein 158, Amsterdam', 'Merlijnstraat 16 I, Amsterdam',\n",
       "       'Buitendraaierij 36, Amsterdam', 'Erasmusgracht 5 2, Amsterdam',\n",
       "       'Sandenburch 46, Amsterdam', 'Alfred Döblinstraat 109, Amsterdam',\n",
       "       'Barbusselaan 127, Amsterdam', 'Kamperfoelieweg 6, Amsterdam',\n",
       "       'Reyer Anslostraat 17 H, Amsterdam',\n",
       "       'Sarphatipark 136 H, Amsterdam',\n",
       "       'Cornelis Dopperkade 6 6A, Amsterdam',\n",
       "       'Formosastraat 61, Amsterdam', 'Schalk Burgerstraat 10, Amsterdam',\n",
       "       'Korenbloemstraat 45, Amsterdam',\n",
       "       'Robert Fruinlaan 17 1, Amsterdam',\n",
       "       'Churchill-laan 256 III, Amsterdam',\n",
       "       'Kea Boumanstraat 30 B, Amsterdam', 'Groetstraat 210, Amsterdam',\n",
       "       'Amazonenstraat 20 1, Amsterdam', 'Groetstraat 207, Amsterdam',\n",
       "       'Nieuwendammerdijk 142, Amsterdam',\n",
       "       'Willy Mullenskade 15, Amsterdam', 'Retiefstraat 61 3, Amsterdam',\n",
       "       'Eef Kamerbeekstraat 584 PP, Amsterdam',\n",
       "       'Zaagmolenstraat 9 3, Amsterdam', 'Billitonstraat 4 3, Amsterdam',\n",
       "       'Keizersgracht 444 C, Amsterdam', 'Lindengracht 215 A, Amsterdam',\n",
       "       'Schouwstraat 11, Amsterdam', 'Jesse Owenshof 27 PP, Amsterdam',\n",
       "       'Leerdamhof 478, Amsterdam', 'Katwijkstraat 1 a, Amsterdam',\n",
       "       'Ruimzicht 40, Amsterdam',\n",
       "       'Burgemeester De Vlugtlaan 219, Amsterdam',\n",
       "       'Bestevâerstraat 5 2, Amsterdam',\n",
       "       'Pieter Calandlaan 379, Amsterdam',\n",
       "       'Tweede Jan van der Heijdenstraat 57 I, Amsterdam',\n",
       "       'J.C. van Epenstraat 47, Amsterdam', 'Teldershof 57, Amsterdam',\n",
       "       'Johan Huizingalaan 260 II, Amsterdam',\n",
       "       'Kantershof 451, Amsterdam', 'Ruyschstraat 335, Amsterdam',\n",
       "       'Burgemeester Van de Pollstraat 18, Amsterdam',\n",
       "       'Slatuinenweg 37, Amsterdam', 'Steenderenstraat 72, Amsterdam',\n",
       "       'Gillis van Ledenberchstraat 3 HS, Amsterdam',\n",
       "       'Tweede Kostverlorenkade 28 2, Amsterdam',\n",
       "       'Mezenstraat 58, Amsterdam', 'Bankastraat 36 III, Amsterdam',\n",
       "       'Jan Zwanenburghof 17 H, Amsterdam', 'Niasstraat 12 B, Amsterdam',\n",
       "       'Hugo de Grootkade 78 2, Amsterdam',\n",
       "       'Harry Koningsbergerstraat 192, Amsterdam',\n",
       "       'Haarlemmerdijk 178 C, Amsterdam', 'Aalbersestraat 232, Amsterdam',\n",
       "       'Cola Debrotstraat 6, Amsterdam', 'IJselstraat 40 2, Amsterdam',\n",
       "       'Hoofdweg 947, Amsterdam', 'Hudsonstraat 45 II, Amsterdam',\n",
       "       'Wagenaarstraat 417, Amsterdam', 'Krimpertplein 54, Amsterdam',\n",
       "       'Tweede Jan Steenstraat 34 HS, Amsterdam',\n",
       "       'Bert Haanstrakade 222, Amsterdam', 'KNSM-laan 479 PP, Amsterdam',\n",
       "       'Spengenpad 34, Amsterdam', 'Amerbos 92, Amsterdam',\n",
       "       'Van Houweningenstraat 74 2, Amsterdam',\n",
       "       'Steenderenstraat 32, Amsterdam', 'Winthontstraat 28, Amsterdam',\n",
       "       'Bonairestraat 73 H, Amsterdam', 'Haarlemmerdijk 178 B, Amsterdam',\n",
       "       'Overleg 82, Amsterdam', 'Kortrijk 171, Amsterdam',\n",
       "       'Van Spilbergenstraat 7 2, Amsterdam',\n",
       "       'Goudsbloemstraat 191 A, Amsterdam', 'Bolestein 756, Amsterdam',\n",
       "       'Rhenenhof 19, Amsterdam', 'Dickenslaan 79, Amsterdam',\n",
       "       'Da Costakade 171 III, Amsterdam',\n",
       "       'Hoogte Kadijk 110 F + PP, Amsterdam',\n",
       "       'Marius Meijboomstraat 21, Amsterdam',\n",
       "       'Frederik Hendrikstraat 117 E, Amsterdam',\n",
       "       'Eerste Boerhaavestraat 16 1, Amsterdam',\n",
       "       'Jisperveldstraat 427, Amsterdam',\n",
       "       'Admiralengracht 162 H, Amsterdam',\n",
       "       'Baden Powellweg 165, Amsterdam',\n",
       "       'Nieuwe Kerkstraat 461, Amsterdam',\n",
       "       'Kolfschotenstraat 154, Amsterdam',\n",
       "       'Toutenburgstraat 104, Amsterdam',\n",
       "       'Lumeijstraat 24 III, Amsterdam',\n",
       "       'Leeuwendalersweg 636, Amsterdam',\n",
       "       'Eerste Constantijn Huygensstraat 49 I, Amsterdam',\n",
       "       'Van Karnebeekstraat 7, Amsterdam',\n",
       "       'Curaçaostraat 82 H, Amsterdam', 'Groenhoven 430, Amsterdam',\n",
       "       'Lodewijk Boisotstraat 6 H, Amsterdam',\n",
       "       'Beemsterstraat 517, Amsterdam',\n",
       "       'Westlandgracht 189 IV, Amsterdam',\n",
       "       'Willem Kromhoutstraat 17, Amsterdam',\n",
       "       'Milletstraat 43 2, Amsterdam',\n",
       "       'Jacob van Lennepstraat 284 H, Amsterdam',\n",
       "       'Robert Fruinlaan 16 III, Amsterdam',\n",
       "       'Potgieterstraat 21 hs, Amsterdam', 'Elpermeer 250, Amsterdam',\n",
       "       'Reizigersweg 185, Amsterdam', 'Welnastraat 479, Amsterdam',\n",
       "       'Van Spilbergenstraat 41 I, Amsterdam',\n",
       "       'Quellijnstraat 46 H, Amsterdam',\n",
       "       'Van der Helstplein 10 3, Amsterdam', 'Landzicht 23, Amsterdam',\n",
       "       'Postjesweg 203, Amsterdam', 'Osdorpplein 62, Amsterdam',\n",
       "       'James Bradleystraat 11, Amsterdam',\n",
       "       'Admiraal De Ruijterweg 301 2, Amsterdam',\n",
       "       'Grevelingenstraat 4 hs, Amsterdam',\n",
       "       'Gibraltarstraat 68 2, Amsterdam', 'Bijlmerdreef 1099, Amsterdam',\n",
       "       'Keizersgracht 682 E, Amsterdam',\n",
       "       'Doggersbankstraat 4 1, Amsterdam',\n",
       "       'Dulcie Septemberpad 12, Amsterdam',\n",
       "       'Josephus Jittastraat 65, Amsterdam',\n",
       "       'Aalsmeerweg 28 1, Amsterdam',\n",
       "       'Tweede Oosterparkstraat 132 E, Amsterdam',\n",
       "       'Koolpalmhof 18, Amsterdam', '1e Kekerstraat 119, Amsterdam',\n",
       "       'Ter Boede 2 hs, Amsterdam', 'Kloekhorststraat 231, Amsterdam',\n",
       "       'Wethouder De Vriesplantsoen 8, Amsterdam',\n",
       "       'Van Spilbergenstraat 68 H, Amsterdam',\n",
       "       'Talbotstraat 223, Amsterdam', 'Oeverpad 570, Amsterdam',\n",
       "       'Prinsengracht 303 F, Amsterdam', 'Tugelaweg 40 f+PP, Amsterdam',\n",
       "       'Petrus Blokhof 12 II, Amsterdam', 'Gouden Leeuw 930, Amsterdam',\n",
       "       'Willebroekstraat 38, Amsterdam',\n",
       "       'Statenjachtstraat 542, Amsterdam', 'Overleg 84, Amsterdam',\n",
       "       'Pieter van der Werfstraat 127, Amsterdam',\n",
       "       'Edmond Halleylaan 25, Amsterdam',\n",
       "       'Waterlandplein 292 D, Amsterdam', 'Ceintuurbaan 199 1, Amsterdam',\n",
       "       'Venetiëhof 212, Amsterdam', 'Jacob Burggraafstraat 90, Amsterdam',\n",
       "       'Vianenstraat 97, Amsterdam', 'Amerbos 34, Amsterdam',\n",
       "       'Burgemeester Hogguerstraat 329, Amsterdam',\n",
       "       'Philip Vingboonsstraat 19, Amsterdam',\n",
       "       'Haarlemmerweg 33 D, Amsterdam', 'Den Texstraat 35 2, Amsterdam',\n",
       "       'Bombraak 4, Amsterdam', 'Cliffordstraat 40 II, Amsterdam',\n",
       "       'Tweede Weteringdwarsstraat 44 2, Amsterdam',\n",
       "       'Kaneelappelstraat 90, Amsterdam', 'Conradstraat 126 F, Amsterdam',\n",
       "       'Stephensonstraat 1 D, Amsterdam',\n",
       "       'Van Hallstraat 33 I, Amsterdam',\n",
       "       'Bloys van Treslongstraat 62 H, Amsterdam',\n",
       "       'Hof van Versailles 37, Amsterdam', 'Zwanenplein 69, Amsterdam',\n",
       "       'Ladogameerhof 162, Amsterdam', 'Jisperveldstraat 598, Amsterdam',\n",
       "       'Paramariboplein 67 bel, Amsterdam',\n",
       "       'Ter Haarstraat 21 E, Amsterdam', 'Sloterkade 33 C, Amsterdam',\n",
       "       'Veemkade 1200, Amsterdam', 'Zuidelijke Wandelweg 151, Amsterdam',\n",
       "       'Zuidelijke Wandelweg 151 PP, Amsterdam',\n",
       "       'Funenpark 349, Amsterdam', 'Bos en Lommerplein 109 PP, Amsterdam',\n",
       "       'IJburglaan 1445, Amsterdam', 'Pesetalaan 47, Amsterdam',\n",
       "       'Kloekhorststraat 215, Amsterdam', 'Zaagmolenstraat 9, Amsterdam',\n",
       "       'Burgemeester Hogguerstraat 769, Amsterdam',\n",
       "       'Jan van Schaffelaarplantsoen 29 A, Amsterdam',\n",
       "       'Vrolikstraat 309 C, Amsterdam', 'Moestuinlaan 10, Amsterdam',\n",
       "       'Amsteldijk 828, Amsterdam', 'Tollensstraat 62, Amsterdam',\n",
       "       'Kazernestraat 2 2, Amsterdam',\n",
       "       'Tweede Jan van der Heijdenstraat 53 III, Amsterdam',\n",
       "       'Van Hilligaertstraat 47, Amsterdam', 'Doggerstraat 15, Amsterdam',\n",
       "       'Statenjachtstraat 211, Amsterdam',\n",
       "       'Uiterwaardenstraat 9 H, Amsterdam', 'Nijenburg 20, Amsterdam',\n",
       "       'Panamalaan 84, Amsterdam',\n",
       "       'Govert Flinckstraat 392 II, Amsterdam',\n",
       "       'S. F. van Ossstraat 180, Amsterdam', 'Buziaustraat 14, Amsterdam',\n",
       "       'Schoorlstraat 42, Amsterdam', 'Ponserstraat 12, Amsterdam',\n",
       "       'Tefelenstraat 82, Amsterdam',\n",
       "       'Juliana van Stolbergstraat 45 H, Amsterdam',\n",
       "       'Hoofdweg 252 H, Amsterdam', 'Venetiëhof 10, Amsterdam',\n",
       "       'ms. van Riemsdijkweg 266, Amsterdam',\n",
       "       'Leeuwendalersweg 648 PP, Amsterdam',\n",
       "       'Prinsengracht 483 A, Amsterdam', 'Bellamystraat 13 15, Amsterdam',\n",
       "       'Gulden Winckelplantsoen 16 II, Amsterdam',\n",
       "       'Hondecoeterstraat 20 III, Amsterdam',\n",
       "       'Waverstraat 48 2, Amsterdam', 'Kortrijk 35, Amsterdam',\n",
       "       'Ruimzicht 83, Amsterdam', 'Loenermark 372, Amsterdam',\n",
       "       'Baden Powellweg 60 B, Amsterdam', 'Pyreneeën 7, Amsterdam',\n",
       "       'Ferguutstraat 16 III, Amsterdam',\n",
       "       'Lange Leidsedwarsstraat 103 1 B, Amsterdam',\n",
       "       'Egidiusstraat 23 1, Amsterdam', 'IJburglaan 1468, Amsterdam',\n",
       "       'Bonairestraat 46 Hs, Amsterdam', 'De Boelelaan 223, Amsterdam',\n",
       "       'Hertspieghelweg 64 H, Amsterdam', 'Curaçaostraat 76 1, Amsterdam',\n",
       "       'Rijnstraat 238 1, Amsterdam',\n",
       "       'Burgemeester Hogguerstraat 353, Amsterdam',\n",
       "       'Tilanusstraat 334, Amsterdam', 'Hofgeest 111, Amsterdam',\n",
       "       'Valeriusstraat 148 Hs, Amsterdam',\n",
       "       'Brederodestraat 42 4, Amsterdam', 'Blasiusstraat 13 1, Amsterdam',\n",
       "       'Hof van Groenen 13, Amsterdam',\n",
       "       'Baron G.A. Tindalplein 10, Amsterdam',\n",
       "       'Retiefstraat 49 2, Amsterdam', 'Lindengracht 24 III, Amsterdam',\n",
       "       'Latherusstraat 54, Amsterdam',\n",
       "       'Derde Helmersstraat 50 H, Amsterdam', 'Fleerde 203, Amsterdam',\n",
       "       'Carolina MacGillavrylaan 130, Amsterdam',\n",
       "       'Kinkerstraat 320 III, Amsterdam', 'Zeeburgerdijk 64 I, Amsterdam',\n",
       "       'Pieter Calandlaan 231, Amsterdam', 'Het Hoogt 215, Amsterdam',\n",
       "       'Rijswijkstraat 32, Amsterdam', 'Ruiseveenpad 48, Amsterdam',\n",
       "       'Weteringschans 122 A, Amsterdam',\n",
       "       'Prinsengracht 1033 C, Amsterdam', 'IJburglaan 1453 PP, Amsterdam',\n",
       "       'Oude-IJselstraat 3 1, Amsterdam', 'Rijsbesstraat 2, Amsterdam',\n",
       "       'Haarlemmermeerstraat 151 1, Amsterdam',\n",
       "       'Cas Oorthuyskade 252, Amsterdam', 'Poeldijkstraat 259, Amsterdam',\n",
       "       'Langswater 885 XII, Amsterdam',\n",
       "       'Tweede Keucheniusstraat 8 3, Amsterdam',\n",
       "       'Hasebroekstraat 41 H, Amsterdam',\n",
       "       'Hoendiepstraat 36 hs, Amsterdam',\n",
       "       'Eerste Jacob van Campenstraat 54 III-IV, Amsterdam',\n",
       "       'Leghornstraat 4, Amsterdam', 'Bijlmerdreef 1097, Amsterdam',\n",
       "       'Jisperveldstraat 212, Amsterdam', 'Hoofdweg 150 hs, Amsterdam',\n",
       "       'J.M. den Uylstraat 76, Amsterdam', 'Valkhof 21, Amsterdam',\n",
       "       'Wilhelminastraat 81 I, Amsterdam',\n",
       "       'Gibraltarstraat 73 1, Amsterdam', 'Noorderakerweg 100, Amsterdam',\n",
       "       'Kanaalstraat 204 H, Amsterdam',\n",
       "       'Erich Salomonstraat 629, Amsterdam',\n",
       "       'Eerste Helmersstraat 56 hs, Amsterdam',\n",
       "       'Bilderdijkkade 50 D2, Amsterdam', 'Leeuwenwerf 119, Amsterdam',\n",
       "       'Eurokade 11, Amsterdam', 'Saxenburgerstraat 1 B, Amsterdam',\n",
       "       'Louise de Colignystraat 54 H, Amsterdam',\n",
       "       'Nachtwachtlaan 501, Amsterdam',\n",
       "       'Donker Curtiusstraat 49, Amsterdam',\n",
       "       'Marius Bauerstraat 235 B2, Amsterdam',\n",
       "       'Grootzeilhof 10, Amsterdam',\n",
       "       'Willem Augustinstraat 179, Amsterdam', 'Javakade 112, Amsterdam',\n",
       "       'Pontanusstraat 200, Amsterdam', 'Oostzaanstraat 255, Amsterdam',\n",
       "       'Kinkerstraat 268 2, Amsterdam', 'Geschutswerf 15, Amsterdam',\n",
       "       'Het Hoogt 178, Amsterdam', 'Dorpsweg Ransdorp 36, Amsterdam',\n",
       "       'Nicolaas Anslijnstraat 125, Amsterdam',\n",
       "       'Lutmastraat 202 B, Amsterdam', 'Lootsstraat 24 II, Amsterdam',\n",
       "       'Commelinstraat 174, Amsterdam', 'Koninginneweg 195 2, Amsterdam',\n",
       "       'Van Speijkstraat 175 2, Amsterdam',\n",
       "       'Van Speijkstraat 138 3, Amsterdam',\n",
       "       'Kinderdijkstraat 48 3, Amsterdam', 'Overtoom 427 I, Amsterdam',\n",
       "       'Dulcie Septemberpad 2, Amsterdam',\n",
       "       'Gerrit van der Veenstraat 145 B*, Amsterdam',\n",
       "       'Akerwateringstraat 71, Amsterdam', 'Pesetalaan 27, Amsterdam',\n",
       "       'Kanaalstraat 38 2, Amsterdam', 'Beethovenstraat 225, Amsterdam',\n",
       "       'Ben van Meerendonkstraat 295, Amsterdam',\n",
       "       'Weissenbruchstraat 49 hs, Amsterdam',\n",
       "       'Frissenstein 304, Amsterdam', 'Retiefstraat 97 A, Amsterdam',\n",
       "       'Voorsteven 11, Amsterdam', 'Enkhuizerstraat 5, Amsterdam',\n",
       "       'Jacob van Lennepstraat 11 I/ II, Amsterdam',\n",
       "       'Meeuwenlaan 175 B, Amsterdam', 'J.M. den Uylstraat 4, Amsterdam',\n",
       "       'Noorder IJdijk 63, Amsterdam', 'Van Nijenrodeweg 81, Amsterdam',\n",
       "       'Burgemeester Cramergracht 60, Amsterdam',\n",
       "       'Jan van Zutphenstraat 103, Amsterdam', 'Doddendaal 56, Amsterdam',\n",
       "       'Hendrik Bulthuisstraat 8, Amsterdam',\n",
       "       'Prins Hendrikkade 156 3, Amsterdam',\n",
       "       'Prins Hendrikkade 156 1, Amsterdam',\n",
       "       'Jan van Duivenvoordestraat 35, Amsterdam',\n",
       "       'Celebesstraat 112 A, Amsterdam', 'Brenner 24, Amsterdam',\n",
       "       'Singel 57 3, Amsterdam', 'IJburglaan 754, Amsterdam',\n",
       "       'Hellingstraat 52, Amsterdam',\n",
       "       'Albert Luthulistraat 26 B, Amsterdam',\n",
       "       'Kinkerstraat 205 B, Amsterdam', 'Willemsparkweg 125 C, Amsterdam',\n",
       "       'Bosplaat 80, Amsterdam', 'Sportstraat 6 1, Amsterdam',\n",
       "       'Le Tourmalet 8, Amsterdam', 'Nieuwevaartweg, Amsterdam',\n",
       "       'Grootzeil 197, Amsterdam', 'Schalk Burgerstraat 72, Amsterdam',\n",
       "       'Cliostraat 14 B, Amsterdam', 'Cliostraat 14 A, Amsterdam',\n",
       "       'Niersstraat 35 HS, Amsterdam',\n",
       "       'Eerste Helmersstraat 244 A, Amsterdam',\n",
       "       'Van Spilbergenstraat 36 3, Amsterdam',\n",
       "       'De Bazelhof 24, Amsterdam', 'Pretoriusstraat 57 4, Amsterdam',\n",
       "       'Kantershof 137, Amsterdam', 'Lange Stammerdijk 1 G, Amsterdam',\n",
       "       'Hamontstraat 59, Amsterdam', 'Jacob Melkmanstraat 52, Amsterdam',\n",
       "       'Dalsteindreef 198, Amsterdam', 'Anjeliersstraat 31 A, Amsterdam',\n",
       "       'Balboastraat 52 II, Amsterdam', 'Meer en Vaart 90 B, Amsterdam',\n",
       "       'Noordzijde 48, Amsterdam', 'Stadionweg 140 3, Amsterdam',\n",
       "       'Wolbrantskerkweg 66 E, Amsterdam', 'Loenermark 130, Amsterdam',\n",
       "       'Van Abbestraat 66, Amsterdam', 'Osdorperweg 177, Amsterdam',\n",
       "       'Rozengracht 104 lll, Amsterdam', 'Haag en Veld 245 B, Amsterdam',\n",
       "       'Jacob Groenplantsoen 7, Amsterdam',\n",
       "       'Admiraal De Ruijterweg 125 2, Amsterdam',\n",
       "       'Keizersgracht 649 F, Amsterdam', 'Loodskotterhof 4, Amsterdam',\n",
       "       'Archimedesweg 32 I, Amsterdam', 'Magalhaensplein 25 H, Amsterdam',\n",
       "       'Ploegstraat 187, Amsterdam', 'Uffizilaan 43, Amsterdam',\n",
       "       'Amstelveenseweg 186 IV A, Amsterdam', 'Werengouw 413, Amsterdam',\n",
       "       'Dirk Bonsstraat 22, Amsterdam',\n",
       "       'Amstelveenseweg 186 IIIV, Amsterdam',\n",
       "       'Amstelveenseweg 186 IIIA, Amsterdam',\n",
       "       'Stentorstraat 95 I, Amsterdam',\n",
       "       'Saskia van Uijlenburgkade 158 PP, Amsterdam',\n",
       "       'J.S. Ruppertstraat 17, Amsterdam', 'Bijlmerdreef 514, Amsterdam',\n",
       "       'Jacob van Lennepkade 265 C, Amsterdam',\n",
       "       'Aalsmeerweg 112 II, Amsterdam',\n",
       "       'Rustenburgerstraat 398 H, Amsterdam',\n",
       "       'Keizersgracht 306 1 V, Amsterdam', 'Eurokade 10, Amsterdam',\n",
       "       'Oranje Nassaulaan 9, Amsterdam',\n",
       "       'Burgemeester Hogguerstraat 773, Amsterdam',\n",
       "       'Hertspieghelweg 6 I, Amsterdam', 'Rietlandpark 103, Amsterdam',\n",
       "       'Langestraat 96, Amsterdam', 'George Ortonpad 9, Amsterdam',\n",
       "       'Hogevecht 8, Amsterdam', 'Koninginneweg 158 4, Amsterdam',\n",
       "       'Leeuwendalersweg 13 E, Amsterdam', 'Spicastraat 3, Amsterdam',\n",
       "       'Hugo de Grootkade 9 H, Amsterdam',\n",
       "       'Egidiusstraat 28 3, Amsterdam', 'Reguliersgracht 87, Amsterdam',\n",
       "       'Sarphatistraat 82 E, Amsterdam',\n",
       "       'Waterlooplein 175 PP, Amsterdam', 'Noorder Valdeur 4, Amsterdam',\n",
       "       'Charlotte Brontéstraat 164, Amsterdam',\n",
       "       'Rapenburg 35 C, Amsterdam',\n",
       "       'Nicolaas Anslijnstraat 117, Amsterdam',\n",
       "       'Vondelstraat 70 II, Amsterdam', 'Doornburg 155, Amsterdam',\n",
       "       'Kruisherenpad 7, Amsterdam', 'Klaprozenweg 49 B 2 +PP, Amsterdam',\n",
       "       'Bakkumstraat 4, Amsterdam', 'Narva-eiland 171, Amsterdam',\n",
       "       'Pretoriusstraat 22 1, Amsterdam', 'Parnassusweg 29 I, Amsterdam',\n",
       "       'Slatuinenweg 21, Amsterdam', 'Jan Ligthartstraat 19, Amsterdam',\n",
       "       'Van Oldenbarneveldtstraat 66 1, Amsterdam',\n",
       "       'Carry Pothuis-Smitstraat 28, Amsterdam',\n",
       "       'Ruimzicht 130, Amsterdam', 'Nachtwachtlaan 167, Amsterdam',\n",
       "       'Warmoesstraat 16 M, Amsterdam',\n",
       "       'Oostelijke Handelskade 1155, Amsterdam',\n",
       "       'Vechtstraat 180 I, Amsterdam', 'Leiduinstraat 18 I, Amsterdam',\n",
       "       'Poeldijkstraat 269, Amsterdam',\n",
       "       'Burgemeester Cramergracht 91, Amsterdam',\n",
       "       'Olympiaweg 58 III, Amsterdam', 'Geldersekade 11 II, Amsterdam',\n",
       "       'Van Ostadestraat 365 I, Amsterdam', 'Javakade 144, Amsterdam',\n",
       "       'Gouden Leeuw 347, Amsterdam', 'Van Ostadestraat 58 1H, Amsterdam',\n",
       "       'Zandstraat 5 hs, Amsterdam', 'Willem Kraanstraat 80, Amsterdam',\n",
       "       'Levantplein 9, Amsterdam', 'Mandarijnenstraat 60 H, Amsterdam',\n",
       "       'Antillenstraat 25 III, Amsterdam', 'Ekingenstraat 272, Amsterdam',\n",
       "       'Jan van Duivenvoordestraat 85 2, Amsterdam',\n",
       "       'Droogbak 6 B, Amsterdam', 'Beulingstraat 6 A, Amsterdam',\n",
       "       'Het Breed 617, Amsterdam', 'Tielstraat 31, Amsterdam',\n",
       "       'Akbarstraat 16 D, Amsterdam', 'Haparandaweg 932 A, Amsterdam',\n",
       "       'Van der Palmkade 116, Amsterdam', 'Haringbuisdijk 14, Amsterdam',\n",
       "       'Brouwersgracht 172 A, Amsterdam', 'Cliffordstraat 3 3, Amsterdam',\n",
       "       'Kanaalstraat 100 G, Amsterdam',\n",
       "       'Saxen-Weimarlaan 22 2, Amsterdam', 'Lauriergracht 89, Amsterdam',\n",
       "       'Faas Wilkesstraat 357, Amsterdam', 'Praterlaan 8, Amsterdam',\n",
       "       'Langswater 576, Amsterdam', 'Buiksloterweg 99, Amsterdam',\n",
       "       'Geldersekade 37 II, Amsterdam', 'Quashibastraat, Amsterdam',\n",
       "       'Valeriusstraat 193, Amsterdam', 'Tussen Meer 230, Amsterdam',\n",
       "       'Willem Kraanstraat 38, Amsterdam',\n",
       "       'Bastenakenstraat 122, Amsterdam', 'Hagedoornplein 24, Amsterdam',\n",
       "       'Bos en Lommerweg 356, Amsterdam',\n",
       "       'Eerste Looiersdwarsstraat 10 B, Amsterdam',\n",
       "       'Kromme Waal 18, Amsterdam', 'Ringdijk, Amsterdam',\n",
       "       'Kleine Beerstraat 31, Amsterdam',\n",
       "       'Stuyvesantstraat 33 II, Amsterdam',\n",
       "       'John Blankensteinstraat 51, Amsterdam',\n",
       "       'S. F. van Ossstraat 334, Amsterdam'], dtype=object)"
      ]
     },
     "execution_count": 11,
     "metadata": {},
     "output_type": "execute_result"
    }
   ],
   "source": [
    "df2['Address'].unique()"
   ]
  },
  {
   "cell_type": "markdown",
   "id": "619084c2",
   "metadata": {},
   "source": [
    "## Removing the repitition of the word 'Amsterdam' from entire 'Address' column."
   ]
  },
  {
   "cell_type": "code",
   "execution_count": 12,
   "id": "8300542c",
   "metadata": {
    "ExecuteTime": {
     "end_time": "2021-11-03T08:23:12.888967Z",
     "start_time": "2021-11-03T08:23:12.872660Z"
    }
   },
   "outputs": [
    {
     "data": {
      "text/plain": [
       "array(['Blasiusstraat 8 2', 'Kromme Leimuidenstraat 13 H',\n",
       "       'Zaaiersweg 11 A', 'Tenerifestraat 40', 'Winterjanpad 21',\n",
       "       'De Wittenkade 134 I', 'Pruimenstraat 18 B', 'Da Costakade 32 II',\n",
       "       'Postjeskade 41 2', 'Van Ostadestraat 193 H', 'Sloterkade 152 1',\n",
       "       'KNSM-laan 609', 'Blasiusstraat 17 II', 'Amstel 124 B',\n",
       "       'Blasiusstraat 50 II', 'Suikerpeerpad 39',\n",
       "       'Paramaribostraat 122 3', 'Burgemeester Hogguerstraat 273',\n",
       "       'Anna Blamansingel 274 VII', 'Oostzaanstraat 271',\n",
       "       'Keizersgracht 171 F', 'Cornelis Troostplein 2 2',\n",
       "       'Thorn Prikkerstraat 93', 'Kramatweg 58 A', 'Bramzeilhof 56',\n",
       "       'Bruinvisstraat 36', 'Arent Janszoon Ernststraat 41',\n",
       "       'Willem de Zwijgerlaan 115 II', 'Colenbranderhof 30',\n",
       "       'Dusartstraat 33 2', 'Churchill-laan 37 A', 'Prinseneiland 545',\n",
       "       'Van Tuyll van Serooskerkenweg 86 H', 'Vondelstraat 51 hs',\n",
       "       'Kinkerstraat 215 D', 'Oldengaarde 116',\n",
       "       'Rustenburgerstraat 154 2', 'J.J. Cremerplein 24 II',\n",
       "       'Oostenburgergracht 41 A', 'C.J.K. van Aalststraat 94 PP',\n",
       "       'John Franklinstraat 38 3', 'Potgieterstraat 23 IV',\n",
       "       'Wamelstraat 76', 'Nieuwe Prinsengracht 48 G',\n",
       "       'Commelinstraat 9 H', 'Orteliusstraat 309 I',\n",
       "       'Tweede Ceramstraat 10', '1e Kekerstraat 77 PP',\n",
       "       'Rietveld Schröderpad 15', 'Beemsterstraat 98', 'Postjesweg 341',\n",
       "       'Eastonstraat 86', 'Adrichemstraat 15', 'Vijzelstraat 91',\n",
       "       'IJdoornlaan 1449 F', 'Amstelveenseweg 184 III', 'Zuideinde 387 D',\n",
       "       'Amstel 13', 'Egidiusstraat 42 3', 'Zeeburgerdijk 578',\n",
       "       'Groetstraat 201', 'Jan Haringstraat 32 I', 'Crynssenstraat 74 2',\n",
       "       'Churchill-laan 254 3', 'Overtoom 502 I',\n",
       "       'Wieringerwaardstraat 226', 'Wiltzanghlaan 31 I',\n",
       "       'Faas Wilkesstraat 321 PP', 'Fahrenheitsingel 17',\n",
       "       'Bankastraat 39 D', 'Toutenburgstraat 75', 'Vegastraat 97',\n",
       "       'Hofwijckstraat 22 III', 'Sam van Houtenstraat 191 C',\n",
       "       'Het Hoogt 180', 'Van Hilligaertstraat 32 C',\n",
       "       'Wethouder Wierdelsstraat 6', 'Van Houweningenstraat 66 2',\n",
       "       'Ternatestraat 174', 'Hudsonstraat 55 hs',\n",
       "       'Maarten Jansz. Kosterstraat 10', 'Spaarndammerplantsoen 20',\n",
       "       'Driehoekstraat 72', 'Admiraliteitstraat 48',\n",
       "       'Willem de Zwijgerlaan 334 E15', 'De Wittenkade 23 2V',\n",
       "       'Keizersgracht 343 F', 'Geschutswerf 81', 'Bilderdijkkade 22 IV',\n",
       "       'Jan Mankesstraat 13 hs', 'Sassenheimstraat 30 1',\n",
       "       'Oudezijds Voorburgwal 161 E', 'Amstelveenseweg 186 4A',\n",
       "       'Nova Zemblastraat 544', 'Achillesstraat 113 2',\n",
       "       'Parnassusweg 151', 'Lamarckhof 11 I',\n",
       "       'Cornelis van Vollenhovenstraat 4 B', 'Van Boetzelaerstraat 73 II',\n",
       "       'Pretoriusstraat 11 II', 'Wittgensteinlaan 137',\n",
       "       'Prinsengracht 201 E', 'Westeinde 16', 'Groenhoven 453',\n",
       "       'Reinier Claeszenstraat 74 3', 'Waterkeringweg 49',\n",
       "       'Lange Leidsedwarsstraat 95 C', 'Lange Leidsedwarsstraat 32 B',\n",
       "       'Vrijheidslaan 14 I', 'Heemstedestraat 10 I', 'Veldzicht 85',\n",
       "       'Rijswijkstraat 69', 'Steenderenstraat 74', 'Sijsjesstraat 12',\n",
       "       'Oudezijds Voorburgwal 93 B', 'Mijehof 285', 'Blasiusstraat 63 2',\n",
       "       'Dirk Vreekenstraat 72', 'Langswater 278', 'Jisperveldstraat 371',\n",
       "       'Funenpark 316', 'Tielstraat 53', 'Panamakade 66',\n",
       "       'Van Oldenbarneveldtstraat 22 II', 'Amstelvlietstraat 193',\n",
       "       'Haparandaweg 750', 'Prins Hendrikkade 510 K',\n",
       "       'Afrikanerplein 118', 'Anne Frankstraat 224', 'Alkmaarstraat 277',\n",
       "       'Geuzenkade 46 H', 'Borgerstraat 29 D', 'Prinsenstraat 4',\n",
       "       'Schotse Hooglanden 4', 'Van Spilbergenstraat 69 II',\n",
       "       'Cliostraat 23 HS', 'Windroosplein 96', 'Nachtwachtlaan 345',\n",
       "       'Antony Moddermanstraat 178', 'Wevelgemstraat 8', 'Reigersbos 251',\n",
       "       'Rubensstraat 26 2', 'Herengracht 193 C', 'Jozef Israëlskade 30 B',\n",
       "       'Tollensstraat 321', 'Kinkerstraat 326 1', 'Hogevecht 47',\n",
       "       'Van Boshuizenstraat 135', 'J.G. Suurhoffstraat 123',\n",
       "       'Lijnbaansgracht 188 H', 'Ank van der Moerstraat 29',\n",
       "       'Osdorpplein 57', 'Wieringerwaardstraat 221',\n",
       "       'Van Boetzelaerstraat 40 H', 'Faas Wilkesstraat 275',\n",
       "       'IJsselmeerstraat 52', 'Utrechtsedwarsstraat 4', 'Neerkanne 7',\n",
       "       'Dirk Bonsstraat 18 I', 'Singel 32 G', 'Amstel 186 HS',\n",
       "       'Nieuwe Prinsengracht 8 3', 'Plejadenplein 1', 'Kikkenstein 3534',\n",
       "       'Quashibastraat 42 C', 'Het Breed 605', 'Tjeukemeerhof 14',\n",
       "       'Van Mourik Broekmanstraat 12 I', 'Vrijzicht 180', 'Oeverpad 482',\n",
       "       'Ouderkerkerdijk 34', 'Leonard Bernsteinstraat 96 A',\n",
       "       'Westerstraat 268', 'Nieuwezijds Voorburgwal 294 1',\n",
       "       'Kleiburg 524', 'Willem Leevendstraat 1 1',\n",
       "       'Amstelveenseweg 970 C', 'Henri Zagwijnstraat 14 3', 'Dam 5 V',\n",
       "       'Zuideinde 356', \"'t Nopeind 2\", 'Hillenraadt 46',\n",
       "       'Archimedesweg 56', 'Huidekoperstraat 24 F',\n",
       "       'Bos en Lommerweg 360', 'Groetstraat 193',\n",
       "       'Catharina Boudewijnshof 51', 'Mauritsstraat 2',\n",
       "       'Ringvaartdijk 80', 'Joan Melchior Kemperstraat 46 IV',\n",
       "       'Nachtwachtlaan 164', 'Borgerstraat 202 I',\n",
       "       'Gerrit van der Veenstraat 134', 'Pieter de Hoochstraat 25 B',\n",
       "       'Keizersgracht 544', 'Leerdamhof 177', 'Willem Heselaarsstraat 70',\n",
       "       'Singel 463 F.', 'Karel Klinkenbergstraat 1 A',\n",
       "       'Noordermarkt 32 A', 'Pieter Cornelisz. Hooftstraat 36 1 2 3',\n",
       "       'Westerdok 452', 'Herengracht 12 C', 'Jan van Riebeekstraat 17 3',\n",
       "       'Keizersgracht 515 R', 'Nieuwe Keizersgracht 570 L',\n",
       "       'Geldersekade 52 A', 'Tenerifestraat 8', 'Parosstraat 6',\n",
       "       'Diemerzeedijk 76 S', 'Karel Doormanstraat 138',\n",
       "       'Lijnbaansstraat 7', 'Frans van Mierisstraat 47 C',\n",
       "       'Nicolaas Anslijnstraat 116', 'Jan van Duivenvoordestraat 10 II',\n",
       "       'Ouderkerkerdijk 42', 'Baarsjesweg 313 H', 'Prinsengracht 416 A',\n",
       "       'Lange Leidsedwarsstraat 103 1 A', 'Herengracht 116 F+K',\n",
       "       'Entrepotdok 85 A', 'Chasséstraat 21 III', 'Fazantenweg 15 1',\n",
       "       'Droogbak 5 B', 'Nieuwe Uilenburgerstraat 9 F',\n",
       "       'Beulingstraat 13 D', 'Kiefskamp 24', 'Herculesstraat 60 B',\n",
       "       'Tweede Oosterparkstraat 188 2', 'Marnixstraat 237 E',\n",
       "       'Nieuwe Leliestraat 11', 'Van Boetzelaerstraat 36 1',\n",
       "       'Weesperzijde 114 huis', 'Brouwersgracht 187 G', 'Wijdesteeg 62',\n",
       "       'Van der Hoopstraat 33 A2', 'Prins Hendrikkade 156 2',\n",
       "       'Willem Frederik Hermansstraat 169 PP', 'Stadhouderskade 16 H',\n",
       "       'Langswater 198', 'Cliostraat 35 1',\n",
       "       'Pieter de Hoochstraat 25 B +PP', 'Uilengouw 2',\n",
       "       'Argonautenstraat 98', 'Kortrijk 50', 'Haarlemmerstraat 98 B',\n",
       "       'Laan van Vlaanderen 141 A2*', 'Laan van Vlaanderen 141 A2',\n",
       "       'Keizersgracht 131 E', 'Fritz Dietrich Kahlenbergstraat 83',\n",
       "       'Gerda Brautigamstraat 37', 'Van Oldenbarneveldtstraat 96 A3',\n",
       "       'Valeriusstraat 137 H', 'Bakkersstraat 11', 'Klaprozenweg 73 A',\n",
       "       'Zocherstraat 23 X', 'Dorpsstraat Holysloot 62',\n",
       "       'Willem de Zwijgerlaan 334 c29', 'Kalverstraat 218 G+2PP',\n",
       "       'Singel 115 B', 'Plantage Muidergracht 105 A', 'Ruysdaelkade 107',\n",
       "       'Ruysdaelkade 109', 'Olympiakade 12', 'Cornelis Zillesenlaan 94',\n",
       "       'Binnenkant 2', 'Zuideinde 417', 'Leerdamhof 294',\n",
       "       'Hertspieghelweg 26 huis', 'Cas Oorthuyskade 47', 'Eurokade 36',\n",
       "       'Prins Hendrikkade 512', 'Osdorperweg 94', 'Borneokade 70',\n",
       "       'Barbusselaan 77', 'Sophialaan 45', 'Duke Ellingtonstraat 46',\n",
       "       'Insulindeweg 116', 'Raphaëlstraat 5', 'Amstel 102',\n",
       "       'Singel 436 G', 'Levantkade 170', 'Vossiusstraat 6 C',\n",
       "       'Bloemgracht 81 6', 'Brouwersgracht 182 I', 'Marskramerstraat 124',\n",
       "       'Prins Hendrikkade 132 A', 'Pieter Cornelisz. Hooftstraat 169 B',\n",
       "       'Ladogameerhof 3', 'George Gershwinlaan 177', 'Vossiusstraat 71',\n",
       "       'Dijkwater 189', 'Amstel 75 F',\n",
       "       'Tweede Jan van der Heijdenstraat 13', 'Churchill-laan 216 3',\n",
       "       'Hogevecht 186 B', 'Valkenburgerstraat 138 A', 'Pontsteiger 137',\n",
       "       'Nieuwe Nieuwstraat 28', 'Badhuiskade 353',\n",
       "       'Witte de Withstraat 20 AH', 'Mauvestraat 56 II+III',\n",
       "       'Oudezijds Voorburgwal 126 A+B', 'Singel 318', 'Termietergouw 6 A',\n",
       "       'Termietergouw 6', 'Broekergouw 4', 'Cliostraat 12 III',\n",
       "       'Ward Bingleystraat 1', 'Rapenburgerplein 8 A',\n",
       "       'Rapenburgerplein 8 B', 'Willem Mollhof 3', 'De Bleeckster 1',\n",
       "       'Prinsengracht 460 A', 'Eerste Looiersdwarsstraat 24 E',\n",
       "       'Herengracht 553 I', 'Prinsengracht 1031 C',\n",
       "       'Prinsengracht 1035 D', 'Pieter van der Werfstraat 44',\n",
       "       'Claus van Amsbergstraat 45', 'Sumatrakade 1523',\n",
       "       'Marnixstraat 255 H', 'Oostakkerstraat 95',\n",
       "       'Eerste Helmersstraat 183 III', 'Noorderakerweg 124',\n",
       "       'Ringvaartdijk 28', 'Schellingwouderdijk 352 e',\n",
       "       'Zeeburgerdijk 585', 'Bernard Shawsingel 250', 'Reigersbos 79',\n",
       "       'Singel 146 A', 'Clara Zetkinstraat 58', 'Sarphatistraat 478',\n",
       "       'Rupelmonde 10', 'Westerdoksdijk 375', 'Cor van Weelehof 3',\n",
       "       'Linnaeusstraat 243 1.', 'Herculesstraat 124 I',\n",
       "       'Akoleienstraat 8 4', 'Amsteldijk 64', 'Hoofdweg 34 H',\n",
       "       'Wiborgeiland 146 PP', 'Wiborgeiland 147 PP', 'Nieuwevaart 10 4V',\n",
       "       'Klaas Katerstraat 118', 'Rozenstraat 80 E',\n",
       "       'Charlotte Brontéstraat 152', 'Vrolikstraat 292 1',\n",
       "       'Overtoom 184 III', 'Johan Huizingalaan 310 I',\n",
       "       'Blauwvoetstraat 59', 'Dikninge 105',\n",
       "       \"Wethouder In 't Veldstraat 77\", 'Amaliastraat 16 H',\n",
       "       'Marnixkade 26 III', 'Pieter Calandlaan 724', 'Barbusselaan 261',\n",
       "       'Revaleiland 383', 'Marnixkade 89 1A', 'Kanaalstraat 11 3/4',\n",
       "       'Groenhoven 358', 'Bilderdijkstraat 180 II', 'Warmondstraat 176 2',\n",
       "       'Linnaeusparkweg 224 HS', 'Hoofdweg 241 III',\n",
       "       'Roelof Hartstraat 13 II', 'Marcantilaan 123',\n",
       "       'Bilderdijkstraat 201 2', 'Orteliusstraat 279 3',\n",
       "       'Baden Powellweg 107', 'Waterlandplein 290 E',\n",
       "       'Wethouder Ramstraat 11', 'Willem de Zwijgerlaan 309 I',\n",
       "       'Cosmariumstraat 9', 'Antony Moddermanstraat 222 HS',\n",
       "       'Insulindeweg 920', 'Loggerhof 149', 'Bataviastraat 67 C',\n",
       "       'Kuipersstraat 43 2', 'Poederooienstraat 97', 'Stadionweg 61 2',\n",
       "       'Spadinalaan 53', 'Westlandgracht 139 H', 'Cliostraat 61 I',\n",
       "       'Stadhouderskade 153 A', 'Erasmusgracht 552 PP', 'Silodam 446',\n",
       "       'Bilderdijkstraat 177 2A', 'Arènpalmstraat 24',\n",
       "       'Van Ostadestraat 27 1', 'Vincent van Goghstraat 19',\n",
       "       'Geervliet 20 A', 'Jacob van Lennepstraat 17 I', 'Oogststraat 81',\n",
       "       'Egidiusstraat 17 1', 'Bentinckstraat 95 3', 'Dickenslaan 146',\n",
       "       'Gibraltarstraat 105 hs', 'Ruimzicht 296', 'Stoutenburggracht 11',\n",
       "       'Eerste Jan Steenstraat 112 2', 'Mercatorstraat 15 III',\n",
       "       'Komijnstraat 24', 'Nicolaas Anslijnstraat 108', 'Aurikelstraat 5',\n",
       "       'Barentszstraat 205', 'Warmoesstraat 139 A',\n",
       "       'Egelantiersstraat 142 B', 'Gouden Leeuw 326',\n",
       "       'Antillenstraat 28 2', 'Borneolaan 342', 'Martin Vlaarkade 97',\n",
       "       'Boeninlaan 81', 'Czaar Peterstraat 45 B', 'Venetiëhof 101',\n",
       "       'Sean MacBridestraat 16', 'Het Hoogt 166', 'Spinaker 219',\n",
       "       'Papendrechtstraat 84', 'C. Kruyswijkstraat 17',\n",
       "       'Van Rappardstraat 41 H', 'Kuipersstraat 77 H',\n",
       "       'Magnoliastraat 10', 'Dalsteindreef 270', 'Elandsgracht 84 2',\n",
       "       'Binnenzagerij 25', 'Jan van Riebeekstraat 3 1',\n",
       "       'Fahrenheitsingel 101', 'Nieuwezijds Voorburgwal 266 2V',\n",
       "       'Van Noordtkade 140', 'Von Zesenstraat 225',\n",
       "       'Van Bossestraat 32 I', 'Admiraal De Ruijterweg 375 I',\n",
       "       'Spaarndammerstraat 62 1', 'Kleine Beerstraat 6',\n",
       "       'Entrepotdok 161', 'Johan Herman Doornstraat 26',\n",
       "       'Cliostraat 21 II', 'Nida Senffstraat 133 PP',\n",
       "       'Kuipersstraat 43 HS', 'Baffinstraat 13 H', 'Werengouw 409',\n",
       "       'Eerste Van Swindenstraat 203', 'Oeverpad 221',\n",
       "       'Pieter van der Meulenhof 14', 'Madurastraat 64 1',\n",
       "       'Burgemeester Cramergracht 67', 'Van Gentstraat 6 1',\n",
       "       'Groenhoven 864', 'Joop Gerritzestraat 14', 'Kleefkruidstraat 30',\n",
       "       'Marcantilaan 225', 'Robert Fruinlaan 24 III', 'Pesetalaan 59',\n",
       "       'Buiksloterbreek 35', 'Bernard Shawsingel 336',\n",
       "       'Nieuwe Keizersgracht 452', 'Prinsengracht 1029 C',\n",
       "       'Boris Pasternakstraat 427', 'Wamelplein 158',\n",
       "       'Merlijnstraat 16 I', 'Buitendraaierij 36', 'Erasmusgracht 5 2',\n",
       "       'Sandenburch 46', 'Alfred Döblinstraat 109', 'Barbusselaan 127',\n",
       "       'Kamperfoelieweg 6', 'Reyer Anslostraat 17 H',\n",
       "       'Sarphatipark 136 H', 'Cornelis Dopperkade 6 6A',\n",
       "       'Formosastraat 61', 'Schalk Burgerstraat 10',\n",
       "       'Korenbloemstraat 45', 'Robert Fruinlaan 17 1',\n",
       "       'Churchill-laan 256 III', 'Kea Boumanstraat 30 B',\n",
       "       'Groetstraat 210', 'Amazonenstraat 20 1', 'Groetstraat 207',\n",
       "       'Nieuwendammerdijk 142', 'Willy Mullenskade 15',\n",
       "       'Retiefstraat 61 3', 'Eef Kamerbeekstraat 584 PP',\n",
       "       'Zaagmolenstraat 9 3', 'Billitonstraat 4 3', 'Keizersgracht 444 C',\n",
       "       'Lindengracht 215 A', 'Schouwstraat 11', 'Jesse Owenshof 27 PP',\n",
       "       'Leerdamhof 478', 'Katwijkstraat 1 a', 'Ruimzicht 40',\n",
       "       'Burgemeester De Vlugtlaan 219', 'Bestevâerstraat 5 2',\n",
       "       'Pieter Calandlaan 379', 'Tweede Jan van der Heijdenstraat 57 I',\n",
       "       'J.C. van Epenstraat 47', 'Teldershof 57',\n",
       "       'Johan Huizingalaan 260 II', 'Kantershof 451', 'Ruyschstraat 335',\n",
       "       'Burgemeester Van de Pollstraat 18', 'Slatuinenweg 37',\n",
       "       'Steenderenstraat 72', 'Gillis van Ledenberchstraat 3 HS',\n",
       "       'Tweede Kostverlorenkade 28 2', 'Mezenstraat 58',\n",
       "       'Bankastraat 36 III', 'Jan Zwanenburghof 17 H', 'Niasstraat 12 B',\n",
       "       'Hugo de Grootkade 78 2', 'Harry Koningsbergerstraat 192',\n",
       "       'Haarlemmerdijk 178 C', 'Aalbersestraat 232',\n",
       "       'Cola Debrotstraat 6', 'IJselstraat 40 2', 'Hoofdweg 947',\n",
       "       'Hudsonstraat 45 II', 'Wagenaarstraat 417', 'Krimpertplein 54',\n",
       "       'Tweede Jan Steenstraat 34 HS', 'Bert Haanstrakade 222',\n",
       "       'KNSM-laan 479 PP', 'Spengenpad 34', 'Amerbos 92',\n",
       "       'Van Houweningenstraat 74 2', 'Steenderenstraat 32',\n",
       "       'Winthontstraat 28', 'Bonairestraat 73 H', 'Haarlemmerdijk 178 B',\n",
       "       'Overleg 82', 'Kortrijk 171', 'Van Spilbergenstraat 7 2',\n",
       "       'Goudsbloemstraat 191 A', 'Bolestein 756', 'Rhenenhof 19',\n",
       "       'Dickenslaan 79', 'Da Costakade 171 III',\n",
       "       'Hoogte Kadijk 110 F + PP', 'Marius Meijboomstraat 21',\n",
       "       'Frederik Hendrikstraat 117 E', 'Eerste Boerhaavestraat 16 1',\n",
       "       'Jisperveldstraat 427', 'Admiralengracht 162 H',\n",
       "       'Baden Powellweg 165', 'Nieuwe Kerkstraat 461',\n",
       "       'Kolfschotenstraat 154', 'Toutenburgstraat 104',\n",
       "       'Lumeijstraat 24 III', 'Leeuwendalersweg 636',\n",
       "       'Eerste Constantijn Huygensstraat 49 I', 'Van Karnebeekstraat 7',\n",
       "       'Curaçaostraat 82 H', 'Groenhoven 430',\n",
       "       'Lodewijk Boisotstraat 6 H', 'Beemsterstraat 517',\n",
       "       'Westlandgracht 189 IV', 'Willem Kromhoutstraat 17',\n",
       "       'Milletstraat 43 2', 'Jacob van Lennepstraat 284 H',\n",
       "       'Robert Fruinlaan 16 III', 'Potgieterstraat 21 hs',\n",
       "       'Elpermeer 250', 'Reizigersweg 185', 'Welnastraat 479',\n",
       "       'Van Spilbergenstraat 41 I', 'Quellijnstraat 46 H',\n",
       "       'Van der Helstplein 10 3', 'Landzicht 23', 'Postjesweg 203',\n",
       "       'Osdorpplein 62', 'James Bradleystraat 11',\n",
       "       'Admiraal De Ruijterweg 301 2', 'Grevelingenstraat 4 hs',\n",
       "       'Gibraltarstraat 68 2', 'Bijlmerdreef 1099', 'Keizersgracht 682 E',\n",
       "       'Doggersbankstraat 4 1', 'Dulcie Septemberpad 12',\n",
       "       'Josephus Jittastraat 65', 'Aalsmeerweg 28 1',\n",
       "       'Tweede Oosterparkstraat 132 E', 'Koolpalmhof 18',\n",
       "       '1e Kekerstraat 119', 'Ter Boede 2 hs', 'Kloekhorststraat 231',\n",
       "       'Wethouder De Vriesplantsoen 8', 'Van Spilbergenstraat 68 H',\n",
       "       'Talbotstraat 223', 'Oeverpad 570', 'Prinsengracht 303 F',\n",
       "       'Tugelaweg 40 f+PP', 'Petrus Blokhof 12 II', 'Gouden Leeuw 930',\n",
       "       'Willebroekstraat 38', 'Statenjachtstraat 542', 'Overleg 84',\n",
       "       'Pieter van der Werfstraat 127', 'Edmond Halleylaan 25',\n",
       "       'Waterlandplein 292 D', 'Ceintuurbaan 199 1', 'Venetiëhof 212',\n",
       "       'Jacob Burggraafstraat 90', 'Vianenstraat 97', 'Amerbos 34',\n",
       "       'Burgemeester Hogguerstraat 329', 'Philip Vingboonsstraat 19',\n",
       "       'Haarlemmerweg 33 D', 'Den Texstraat 35 2', 'Bombraak 4',\n",
       "       'Cliffordstraat 40 II', 'Tweede Weteringdwarsstraat 44 2',\n",
       "       'Kaneelappelstraat 90', 'Conradstraat 126 F',\n",
       "       'Stephensonstraat 1 D', 'Van Hallstraat 33 I',\n",
       "       'Bloys van Treslongstraat 62 H', 'Hof van Versailles 37',\n",
       "       'Zwanenplein 69', 'Ladogameerhof 162', 'Jisperveldstraat 598',\n",
       "       'Paramariboplein 67 bel', 'Ter Haarstraat 21 E', 'Sloterkade 33 C',\n",
       "       'Veemkade 1200', 'Zuidelijke Wandelweg 151',\n",
       "       'Zuidelijke Wandelweg 151 PP', 'Funenpark 349',\n",
       "       'Bos en Lommerplein 109 PP', 'IJburglaan 1445', 'Pesetalaan 47',\n",
       "       'Kloekhorststraat 215', 'Zaagmolenstraat 9',\n",
       "       'Burgemeester Hogguerstraat 769',\n",
       "       'Jan van Schaffelaarplantsoen 29 A', 'Vrolikstraat 309 C',\n",
       "       'Moestuinlaan 10', 'Amsteldijk 828', 'Tollensstraat 62',\n",
       "       'Kazernestraat 2 2', 'Tweede Jan van der Heijdenstraat 53 III',\n",
       "       'Van Hilligaertstraat 47', 'Doggerstraat 15',\n",
       "       'Statenjachtstraat 211', 'Uiterwaardenstraat 9 H', 'Nijenburg 20',\n",
       "       'Panamalaan 84', 'Govert Flinckstraat 392 II',\n",
       "       'S. F. van Ossstraat 180', 'Buziaustraat 14', 'Schoorlstraat 42',\n",
       "       'Ponserstraat 12', 'Tefelenstraat 82',\n",
       "       'Juliana van Stolbergstraat 45 H', 'Hoofdweg 252 H',\n",
       "       'Venetiëhof 10', 'ms. van Riemsdijkweg 266',\n",
       "       'Leeuwendalersweg 648 PP', 'Prinsengracht 483 A',\n",
       "       'Bellamystraat 13 15', 'Gulden Winckelplantsoen 16 II',\n",
       "       'Hondecoeterstraat 20 III', 'Waverstraat 48 2', 'Kortrijk 35',\n",
       "       'Ruimzicht 83', 'Loenermark 372', 'Baden Powellweg 60 B',\n",
       "       'Pyreneeën 7', 'Ferguutstraat 16 III',\n",
       "       'Lange Leidsedwarsstraat 103 1 B', 'Egidiusstraat 23 1',\n",
       "       'IJburglaan 1468', 'Bonairestraat 46 Hs', 'De Boelelaan 223',\n",
       "       'Hertspieghelweg 64 H', 'Curaçaostraat 76 1', 'Rijnstraat 238 1',\n",
       "       'Burgemeester Hogguerstraat 353', 'Tilanusstraat 334',\n",
       "       'Hofgeest 111', 'Valeriusstraat 148 Hs', 'Brederodestraat 42 4',\n",
       "       'Blasiusstraat 13 1', 'Hof van Groenen 13',\n",
       "       'Baron G.A. Tindalplein 10', 'Retiefstraat 49 2',\n",
       "       'Lindengracht 24 III', 'Latherusstraat 54',\n",
       "       'Derde Helmersstraat 50 H', 'Fleerde 203',\n",
       "       'Carolina MacGillavrylaan 130', 'Kinkerstraat 320 III',\n",
       "       'Zeeburgerdijk 64 I', 'Pieter Calandlaan 231', 'Het Hoogt 215',\n",
       "       'Rijswijkstraat 32', 'Ruiseveenpad 48', 'Weteringschans 122 A',\n",
       "       'Prinsengracht 1033 C', 'IJburglaan 1453 PP',\n",
       "       'Oude-IJselstraat 3 1', 'Rijsbesstraat 2',\n",
       "       'Haarlemmermeerstraat 151 1', 'Cas Oorthuyskade 252',\n",
       "       'Poeldijkstraat 259', 'Langswater 885 XII',\n",
       "       'Tweede Keucheniusstraat 8 3', 'Hasebroekstraat 41 H',\n",
       "       'Hoendiepstraat 36 hs', 'Eerste Jacob van Campenstraat 54 III-IV',\n",
       "       'Leghornstraat 4', 'Bijlmerdreef 1097', 'Jisperveldstraat 212',\n",
       "       'Hoofdweg 150 hs', 'J.M. den Uylstraat 76', 'Valkhof 21',\n",
       "       'Wilhelminastraat 81 I', 'Gibraltarstraat 73 1',\n",
       "       'Noorderakerweg 100', 'Kanaalstraat 204 H',\n",
       "       'Erich Salomonstraat 629', 'Eerste Helmersstraat 56 hs',\n",
       "       'Bilderdijkkade 50 D2', 'Leeuwenwerf 119', 'Eurokade 11',\n",
       "       'Saxenburgerstraat 1 B', 'Louise de Colignystraat 54 H',\n",
       "       'Nachtwachtlaan 501', 'Donker Curtiusstraat 49',\n",
       "       'Marius Bauerstraat 235 B2', 'Grootzeilhof 10',\n",
       "       'Willem Augustinstraat 179', 'Javakade 112', 'Pontanusstraat 200',\n",
       "       'Oostzaanstraat 255', 'Kinkerstraat 268 2', 'Geschutswerf 15',\n",
       "       'Het Hoogt 178', 'Dorpsweg Ransdorp 36',\n",
       "       'Nicolaas Anslijnstraat 125', 'Lutmastraat 202 B',\n",
       "       'Lootsstraat 24 II', 'Commelinstraat 174', 'Koninginneweg 195 2',\n",
       "       'Van Speijkstraat 175 2', 'Van Speijkstraat 138 3',\n",
       "       'Kinderdijkstraat 48 3', 'Overtoom 427 I', 'Dulcie Septemberpad 2',\n",
       "       'Gerrit van der Veenstraat 145 B*', 'Akerwateringstraat 71',\n",
       "       'Pesetalaan 27', 'Kanaalstraat 38 2', 'Beethovenstraat 225',\n",
       "       'Ben van Meerendonkstraat 295', 'Weissenbruchstraat 49 hs',\n",
       "       'Frissenstein 304', 'Retiefstraat 97 A', 'Voorsteven 11',\n",
       "       'Enkhuizerstraat 5', 'Jacob van Lennepstraat 11 I/ II',\n",
       "       'Meeuwenlaan 175 B', 'J.M. den Uylstraat 4', 'Noorder IJdijk 63',\n",
       "       'Van Nijenrodeweg 81', 'Burgemeester Cramergracht 60',\n",
       "       'Jan van Zutphenstraat 103', 'Doddendaal 56',\n",
       "       'Hendrik Bulthuisstraat 8', 'Prins Hendrikkade 156 3',\n",
       "       'Prins Hendrikkade 156 1', 'Jan van Duivenvoordestraat 35',\n",
       "       'Celebesstraat 112 A', 'Brenner 24', 'Singel 57 3',\n",
       "       'IJburglaan 754', 'Hellingstraat 52', 'Albert Luthulistraat 26 B',\n",
       "       'Kinkerstraat 205 B', 'Willemsparkweg 125 C', 'Bosplaat 80',\n",
       "       'Sportstraat 6 1', 'Le Tourmalet 8', 'Nieuwevaartweg',\n",
       "       'Grootzeil 197', 'Schalk Burgerstraat 72', 'Cliostraat 14 B',\n",
       "       'Cliostraat 14 A', 'Niersstraat 35 HS',\n",
       "       'Eerste Helmersstraat 244 A', 'Van Spilbergenstraat 36 3',\n",
       "       'De Bazelhof 24', 'Pretoriusstraat 57 4', 'Kantershof 137',\n",
       "       'Lange Stammerdijk 1 G', 'Hamontstraat 59',\n",
       "       'Jacob Melkmanstraat 52', 'Dalsteindreef 198',\n",
       "       'Anjeliersstraat 31 A', 'Balboastraat 52 II', 'Meer en Vaart 90 B',\n",
       "       'Noordzijde 48', 'Stadionweg 140 3', 'Wolbrantskerkweg 66 E',\n",
       "       'Loenermark 130', 'Van Abbestraat 66', 'Osdorperweg 177',\n",
       "       'Rozengracht 104 lll', 'Haag en Veld 245 B',\n",
       "       'Jacob Groenplantsoen 7', 'Admiraal De Ruijterweg 125 2',\n",
       "       'Keizersgracht 649 F', 'Loodskotterhof 4', 'Archimedesweg 32 I',\n",
       "       'Magalhaensplein 25 H', 'Ploegstraat 187', 'Uffizilaan 43',\n",
       "       'Amstelveenseweg 186 IV A', 'Werengouw 413', 'Dirk Bonsstraat 22',\n",
       "       'Amstelveenseweg 186 IIIV', 'Amstelveenseweg 186 IIIA',\n",
       "       'Stentorstraat 95 I', 'Saskia van Uijlenburgkade 158 PP',\n",
       "       'J.S. Ruppertstraat 17', 'Bijlmerdreef 514',\n",
       "       'Jacob van Lennepkade 265 C', 'Aalsmeerweg 112 II',\n",
       "       'Rustenburgerstraat 398 H', 'Keizersgracht 306 1 V', 'Eurokade 10',\n",
       "       'Oranje Nassaulaan 9', 'Burgemeester Hogguerstraat 773',\n",
       "       'Hertspieghelweg 6 I', 'Rietlandpark 103', 'Langestraat 96',\n",
       "       'George Ortonpad 9', 'Hogevecht 8', 'Koninginneweg 158 4',\n",
       "       'Leeuwendalersweg 13 E', 'Spicastraat 3', 'Hugo de Grootkade 9 H',\n",
       "       'Egidiusstraat 28 3', 'Reguliersgracht 87', 'Sarphatistraat 82 E',\n",
       "       'Waterlooplein 175 PP', 'Noorder Valdeur 4',\n",
       "       'Charlotte Brontéstraat 164', 'Rapenburg 35 C',\n",
       "       'Nicolaas Anslijnstraat 117', 'Vondelstraat 70 II',\n",
       "       'Doornburg 155', 'Kruisherenpad 7', 'Klaprozenweg 49 B 2 +PP',\n",
       "       'Bakkumstraat 4', 'Narva-eiland 171', 'Pretoriusstraat 22 1',\n",
       "       'Parnassusweg 29 I', 'Slatuinenweg 21', 'Jan Ligthartstraat 19',\n",
       "       'Van Oldenbarneveldtstraat 66 1', 'Carry Pothuis-Smitstraat 28',\n",
       "       'Ruimzicht 130', 'Nachtwachtlaan 167', 'Warmoesstraat 16 M',\n",
       "       'Oostelijke Handelskade 1155', 'Vechtstraat 180 I',\n",
       "       'Leiduinstraat 18 I', 'Poeldijkstraat 269',\n",
       "       'Burgemeester Cramergracht 91', 'Olympiaweg 58 III',\n",
       "       'Geldersekade 11 II', 'Van Ostadestraat 365 I', 'Javakade 144',\n",
       "       'Gouden Leeuw 347', 'Van Ostadestraat 58 1H', 'Zandstraat 5 hs',\n",
       "       'Willem Kraanstraat 80', 'Levantplein 9', 'Mandarijnenstraat 60 H',\n",
       "       'Antillenstraat 25 III', 'Ekingenstraat 272',\n",
       "       'Jan van Duivenvoordestraat 85 2', 'Droogbak 6 B',\n",
       "       'Beulingstraat 6 A', 'Het Breed 617', 'Tielstraat 31',\n",
       "       'Akbarstraat 16 D', 'Haparandaweg 932 A', 'Van der Palmkade 116',\n",
       "       'Haringbuisdijk 14', 'Brouwersgracht 172 A', 'Cliffordstraat 3 3',\n",
       "       'Kanaalstraat 100 G', 'Saxen-Weimarlaan 22 2', 'Lauriergracht 89',\n",
       "       'Faas Wilkesstraat 357', 'Praterlaan 8', 'Langswater 576',\n",
       "       'Buiksloterweg 99', 'Geldersekade 37 II', 'Quashibastraat',\n",
       "       'Valeriusstraat 193', 'Tussen Meer 230', 'Willem Kraanstraat 38',\n",
       "       'Bastenakenstraat 122', 'Hagedoornplein 24',\n",
       "       'Bos en Lommerweg 356', 'Eerste Looiersdwarsstraat 10 B',\n",
       "       'Kromme Waal 18', 'Ringdijk', 'Kleine Beerstraat 31',\n",
       "       'Stuyvesantstraat 33 II', 'John Blankensteinstraat 51',\n",
       "       'S. F. van Ossstraat 334'], dtype=object)"
      ]
     },
     "execution_count": 12,
     "metadata": {},
     "output_type": "execute_result"
    }
   ],
   "source": [
    "df3=df2.copy()\n",
    "df3['Address']=df2['Address'].apply(lambda x: x.split(',')[0])\n",
    "df3['Address'].unique()"
   ]
  },
  {
   "cell_type": "markdown",
   "id": "f4742f48",
   "metadata": {},
   "source": [
    "## Extracting the numeric part of Zip code (can be useful for plotting)"
   ]
  },
  {
   "cell_type": "code",
   "execution_count": 83,
   "id": "7a8e5b64",
   "metadata": {
    "ExecuteTime": {
     "end_time": "2021-11-03T22:30:29.708456Z",
     "start_time": "2021-11-03T22:30:29.702540Z"
    }
   },
   "outputs": [
    {
     "data": {
      "text/plain": [
       "array(['1091', '1059', '1097', '1060', '1036', '1051', '1033', '1053',\n",
       "       '1058', '1073', '1019', '1017', '1064', '1102', '1013', '1016',\n",
       "       '1072', '1062', '1095', '1034', '1035', '1083', '1056', '1065',\n",
       "       '1078', '1076', '1054', '1018', '1106', '1093', '1104', '1024',\n",
       "       '1068', '1075', '1011', '1055', '1094', '1107', '1067', '1025',\n",
       "       '1052', '1057', '1015', '1061', '1012', '1077', '1098', '1063',\n",
       "       '1092', '1103', '1021', '1069', '1096', '1066', '1082', '1087',\n",
       "       '1081', '1027', '1071', '1108', '1032', '1028', '1086', '1014',\n",
       "       '1031', '1023', '1074', '1022', '1079', '1109'], dtype=object)"
      ]
     },
     "execution_count": 83,
     "metadata": {},
     "output_type": "execute_result"
    }
   ],
   "source": [
    "df3['Zip_number']=df2['Zip'].apply(lambda x: x.split(' ')[0])\n",
    "df3['Zip_number'].unique()"
   ]
  },
  {
   "cell_type": "markdown",
   "id": "1a000717",
   "metadata": {},
   "source": [
    "## 'Area' column has few values which are given as range instead of a number. We can take the average of the min and max of the range."
   ]
  },
  {
   "cell_type": "code",
   "execution_count": 13,
   "id": "ebccfdec",
   "metadata": {
    "ExecuteTime": {
     "end_time": "2021-11-03T08:23:16.345728Z",
     "start_time": "2021-11-03T08:23:16.342080Z"
    }
   },
   "outputs": [],
   "source": [
    "def is_float(x):\n",
    "    try:\n",
    "        float(x)\n",
    "    except:\n",
    "        return False\n",
    "    return True"
   ]
  },
  {
   "cell_type": "code",
   "execution_count": 85,
   "id": "1e0285a4",
   "metadata": {
    "ExecuteTime": {
     "end_time": "2021-11-03T22:34:59.853833Z",
     "start_time": "2021-11-03T22:34:59.830211Z"
    }
   },
   "outputs": [
    {
     "data": {
      "text/html": [
       "<div>\n",
       "<style scoped>\n",
       "    .dataframe tbody tr th:only-of-type {\n",
       "        vertical-align: middle;\n",
       "    }\n",
       "\n",
       "    .dataframe tbody tr th {\n",
       "        vertical-align: top;\n",
       "    }\n",
       "\n",
       "    .dataframe thead th {\n",
       "        text-align: right;\n",
       "    }\n",
       "</style>\n",
       "<table border=\"1\" class=\"dataframe\">\n",
       "  <thead>\n",
       "    <tr style=\"text-align: right;\">\n",
       "      <th></th>\n",
       "      <th>Address</th>\n",
       "      <th>Zip</th>\n",
       "      <th>Price</th>\n",
       "      <th>Area</th>\n",
       "      <th>Room</th>\n",
       "      <th>Lon</th>\n",
       "      <th>Lat</th>\n",
       "      <th>Zip_number</th>\n",
       "    </tr>\n",
       "  </thead>\n",
       "  <tbody>\n",
       "    <tr>\n",
       "      <th>25</th>\n",
       "      <td>Bramzeilhof 56</td>\n",
       "      <td>1034 LH</td>\n",
       "      <td>350000.0</td>\n",
       "      <td>100-120</td>\n",
       "      <td>5</td>\n",
       "      <td>4.921574</td>\n",
       "      <td>52.408269</td>\n",
       "      <td>1034</td>\n",
       "    </tr>\n",
       "    <tr>\n",
       "      <th>199</th>\n",
       "      <td>Singel 463 F.</td>\n",
       "      <td>1012 WP</td>\n",
       "      <td>1450000.0</td>\n",
       "      <td>120-130</td>\n",
       "      <td>2</td>\n",
       "      <td>4.891701</td>\n",
       "      <td>52.367182</td>\n",
       "      <td>1012</td>\n",
       "    </tr>\n",
       "    <tr>\n",
       "      <th>208</th>\n",
       "      <td>Geldersekade 52 A</td>\n",
       "      <td>1012 BJ</td>\n",
       "      <td>729000.0</td>\n",
       "      <td>100-120</td>\n",
       "      <td>5</td>\n",
       "      <td>4.901320</td>\n",
       "      <td>52.375059</td>\n",
       "      <td>1012</td>\n",
       "    </tr>\n",
       "    <tr>\n",
       "      <th>217</th>\n",
       "      <td>Ouderkerkerdijk 42</td>\n",
       "      <td>1096 CR</td>\n",
       "      <td>685000.0</td>\n",
       "      <td>100-120</td>\n",
       "      <td>4</td>\n",
       "      <td>4.901539</td>\n",
       "      <td>52.333097</td>\n",
       "      <td>1096</td>\n",
       "    </tr>\n",
       "    <tr>\n",
       "      <th>252</th>\n",
       "      <td>Gerda Brautigamstraat 37</td>\n",
       "      <td>1067 VM</td>\n",
       "      <td>545000.0</td>\n",
       "      <td>100-120</td>\n",
       "      <td>4</td>\n",
       "      <td>4.789083</td>\n",
       "      <td>52.379219</td>\n",
       "      <td>1067</td>\n",
       "    </tr>\n",
       "    <tr>\n",
       "      <th>279</th>\n",
       "      <td>Insulindeweg 116</td>\n",
       "      <td>1094 PT</td>\n",
       "      <td>850000.0</td>\n",
       "      <td>100-120</td>\n",
       "      <td>2</td>\n",
       "      <td>4.936223</td>\n",
       "      <td>52.360906</td>\n",
       "      <td>1094</td>\n",
       "    </tr>\n",
       "    <tr>\n",
       "      <th>603</th>\n",
       "      <td>Edmond Halleylaan 25</td>\n",
       "      <td>1086 ZV</td>\n",
       "      <td>600000.0</td>\n",
       "      <td>100-120</td>\n",
       "      <td>4</td>\n",
       "      <td>4.981387</td>\n",
       "      <td>52.360243</td>\n",
       "      <td>1086</td>\n",
       "    </tr>\n",
       "    <tr>\n",
       "      <th>707</th>\n",
       "      <td>Rijsbesstraat 2</td>\n",
       "      <td>1036 LN</td>\n",
       "      <td>650000.0</td>\n",
       "      <td>120-130</td>\n",
       "      <td>5</td>\n",
       "      <td>4.901879</td>\n",
       "      <td>52.406292</td>\n",
       "      <td>1036</td>\n",
       "    </tr>\n",
       "    <tr>\n",
       "      <th>732</th>\n",
       "      <td>Saxenburgerstraat 1 B</td>\n",
       "      <td>1054 KM</td>\n",
       "      <td>1025000.0</td>\n",
       "      <td>120-130</td>\n",
       "      <td>3</td>\n",
       "      <td>4.860922</td>\n",
       "      <td>52.358834</td>\n",
       "      <td>1054</td>\n",
       "    </tr>\n",
       "    <tr>\n",
       "      <th>734</th>\n",
       "      <td>Nachtwachtlaan 501</td>\n",
       "      <td>1058 ES</td>\n",
       "      <td>550000.0</td>\n",
       "      <td>120-130</td>\n",
       "      <td>5</td>\n",
       "      <td>4.843510</td>\n",
       "      <td>52.363743</td>\n",
       "      <td>1058</td>\n",
       "    </tr>\n",
       "  </tbody>\n",
       "</table>\n",
       "</div>"
      ],
      "text/plain": [
       "                      Address      Zip      Price     Area  Room       Lon  \\\n",
       "25             Bramzeilhof 56  1034 LH   350000.0  100-120     5  4.921574   \n",
       "199             Singel 463 F.  1012 WP  1450000.0  120-130     2  4.891701   \n",
       "208         Geldersekade 52 A  1012 BJ   729000.0  100-120     5  4.901320   \n",
       "217        Ouderkerkerdijk 42  1096 CR   685000.0  100-120     4  4.901539   \n",
       "252  Gerda Brautigamstraat 37  1067 VM   545000.0  100-120     4  4.789083   \n",
       "279          Insulindeweg 116  1094 PT   850000.0  100-120     2  4.936223   \n",
       "603      Edmond Halleylaan 25  1086 ZV   600000.0  100-120     4  4.981387   \n",
       "707           Rijsbesstraat 2  1036 LN   650000.0  120-130     5  4.901879   \n",
       "732     Saxenburgerstraat 1 B  1054 KM  1025000.0  120-130     3  4.860922   \n",
       "734        Nachtwachtlaan 501  1058 ES   550000.0  120-130     5  4.843510   \n",
       "\n",
       "           Lat Zip_number  \n",
       "25   52.408269       1034  \n",
       "199  52.367182       1012  \n",
       "208  52.375059       1012  \n",
       "217  52.333097       1096  \n",
       "252  52.379219       1067  \n",
       "279  52.360906       1094  \n",
       "603  52.360243       1086  \n",
       "707  52.406292       1036  \n",
       "732  52.358834       1054  \n",
       "734  52.363743       1058  "
      ]
     },
     "execution_count": 85,
     "metadata": {},
     "output_type": "execute_result"
    }
   ],
   "source": [
    "df3[~df3['Area'].apply(is_float)].head(10)"
   ]
  },
  {
   "cell_type": "code",
   "execution_count": 15,
   "id": "0a26d040",
   "metadata": {
    "ExecuteTime": {
     "end_time": "2021-11-03T08:24:15.700983Z",
     "start_time": "2021-11-03T08:24:15.694326Z"
    }
   },
   "outputs": [],
   "source": [
    "def range_to_num(x):\n",
    "    tokens=x.split('-')\n",
    "    if len(tokens)==2:\n",
    "        return(float(tokens[0])+float(tokens[1]))/2\n",
    "    try:\n",
    "        return float(x)\n",
    "    except:\n",
    "        return None"
   ]
  },
  {
   "cell_type": "code",
   "execution_count": 86,
   "id": "3053a8e2",
   "metadata": {
    "ExecuteTime": {
     "end_time": "2021-11-03T22:35:08.239899Z",
     "start_time": "2021-11-03T22:35:08.220596Z"
    }
   },
   "outputs": [
    {
     "data": {
      "text/html": [
       "<div>\n",
       "<style scoped>\n",
       "    .dataframe tbody tr th:only-of-type {\n",
       "        vertical-align: middle;\n",
       "    }\n",
       "\n",
       "    .dataframe tbody tr th {\n",
       "        vertical-align: top;\n",
       "    }\n",
       "\n",
       "    .dataframe thead th {\n",
       "        text-align: right;\n",
       "    }\n",
       "</style>\n",
       "<table border=\"1\" class=\"dataframe\">\n",
       "  <thead>\n",
       "    <tr style=\"text-align: right;\">\n",
       "      <th></th>\n",
       "      <th>Address</th>\n",
       "      <th>Zip</th>\n",
       "      <th>Price</th>\n",
       "      <th>Area</th>\n",
       "      <th>Room</th>\n",
       "      <th>Lon</th>\n",
       "      <th>Lat</th>\n",
       "      <th>Zip_number</th>\n",
       "    </tr>\n",
       "  </thead>\n",
       "  <tbody>\n",
       "    <tr>\n",
       "      <th>1</th>\n",
       "      <td>Blasiusstraat 8 2</td>\n",
       "      <td>1091 CR</td>\n",
       "      <td>685000.0</td>\n",
       "      <td>64.0</td>\n",
       "      <td>3</td>\n",
       "      <td>4.907736</td>\n",
       "      <td>52.356157</td>\n",
       "      <td>1091</td>\n",
       "    </tr>\n",
       "    <tr>\n",
       "      <th>2</th>\n",
       "      <td>Kromme Leimuidenstraat 13 H</td>\n",
       "      <td>1059 EL</td>\n",
       "      <td>475000.0</td>\n",
       "      <td>60.0</td>\n",
       "      <td>3</td>\n",
       "      <td>4.850476</td>\n",
       "      <td>52.348586</td>\n",
       "      <td>1059</td>\n",
       "    </tr>\n",
       "    <tr>\n",
       "      <th>3</th>\n",
       "      <td>Zaaiersweg 11 A</td>\n",
       "      <td>1097 SM</td>\n",
       "      <td>850000.0</td>\n",
       "      <td>109.0</td>\n",
       "      <td>4</td>\n",
       "      <td>4.944774</td>\n",
       "      <td>52.343782</td>\n",
       "      <td>1097</td>\n",
       "    </tr>\n",
       "    <tr>\n",
       "      <th>4</th>\n",
       "      <td>Tenerifestraat 40</td>\n",
       "      <td>1060 TH</td>\n",
       "      <td>580000.0</td>\n",
       "      <td>128.0</td>\n",
       "      <td>6</td>\n",
       "      <td>4.789928</td>\n",
       "      <td>52.343712</td>\n",
       "      <td>1060</td>\n",
       "    </tr>\n",
       "    <tr>\n",
       "      <th>5</th>\n",
       "      <td>Winterjanpad 21</td>\n",
       "      <td>1036 KN</td>\n",
       "      <td>720000.0</td>\n",
       "      <td>138.0</td>\n",
       "      <td>5</td>\n",
       "      <td>4.902503</td>\n",
       "      <td>52.410538</td>\n",
       "      <td>1036</td>\n",
       "    </tr>\n",
       "  </tbody>\n",
       "</table>\n",
       "</div>"
      ],
      "text/plain": [
       "                       Address      Zip     Price   Area  Room       Lon  \\\n",
       "1            Blasiusstraat 8 2  1091 CR  685000.0   64.0     3  4.907736   \n",
       "2  Kromme Leimuidenstraat 13 H  1059 EL  475000.0   60.0     3  4.850476   \n",
       "3              Zaaiersweg 11 A  1097 SM  850000.0  109.0     4  4.944774   \n",
       "4            Tenerifestraat 40  1060 TH  580000.0  128.0     6  4.789928   \n",
       "5              Winterjanpad 21  1036 KN  720000.0  138.0     5  4.902503   \n",
       "\n",
       "         Lat Zip_number  \n",
       "1  52.356157       1091  \n",
       "2  52.348586       1059  \n",
       "3  52.343782       1097  \n",
       "4  52.343712       1060  \n",
       "5  52.410538       1036  "
      ]
     },
     "execution_count": 86,
     "metadata": {},
     "output_type": "execute_result"
    }
   ],
   "source": [
    "df4=df3.copy()\n",
    "df4.Area = df3.Area.apply(range_to_num)\n",
    "df4.head()"
   ]
  },
  {
   "cell_type": "code",
   "execution_count": null,
   "id": "30e269bc",
   "metadata": {},
   "outputs": [],
   "source": [
    "# To check if the range is converted to number"
   ]
  },
  {
   "cell_type": "code",
   "execution_count": 87,
   "id": "0791827e",
   "metadata": {
    "ExecuteTime": {
     "end_time": "2021-11-03T22:35:20.229829Z",
     "start_time": "2021-11-03T22:35:20.212234Z"
    }
   },
   "outputs": [
    {
     "data": {
      "text/plain": [
       "Address       Insulindeweg 116\n",
       "Zip                    1094 PT\n",
       "Price                 850000.0\n",
       "Area                     110.0\n",
       "Room                         2\n",
       "Lon                   4.936223\n",
       "Lat                  52.360906\n",
       "Zip_number                1094\n",
       "Name: 279, dtype: object"
      ]
     },
     "execution_count": 87,
     "metadata": {},
     "output_type": "execute_result"
    }
   ],
   "source": [
    "df4.loc[279]"
   ]
  },
  {
   "cell_type": "code",
   "execution_count": null,
   "id": "9349684d",
   "metadata": {},
   "outputs": [],
   "source": [
    "#Area = 110 i.e average of the range 100-120"
   ]
  },
  {
   "cell_type": "code",
   "execution_count": 18,
   "id": "91a63322",
   "metadata": {
    "ExecuteTime": {
     "end_time": "2021-11-03T08:24:29.323998Z",
     "start_time": "2021-11-03T08:24:29.319489Z"
    }
   },
   "outputs": [
    {
     "data": {
      "text/plain": [
       "110.0"
      ]
     },
     "execution_count": 18,
     "metadata": {},
     "output_type": "execute_result"
    }
   ],
   "source": [
    "(100+120)/2"
   ]
  },
  {
   "cell_type": "markdown",
   "id": "6008f74f",
   "metadata": {},
   "source": [
    "## Calculating a new column Price per unit area (EUR / sq metre) "
   ]
  },
  {
   "cell_type": "code",
   "execution_count": 88,
   "id": "0abdf159",
   "metadata": {
    "ExecuteTime": {
     "end_time": "2021-11-03T22:35:50.185985Z",
     "start_time": "2021-11-03T22:35:50.180315Z"
    }
   },
   "outputs": [],
   "source": [
    "df5=df4.copy()"
   ]
  },
  {
   "cell_type": "code",
   "execution_count": 89,
   "id": "d5d9d3ed",
   "metadata": {
    "ExecuteTime": {
     "end_time": "2021-11-03T22:35:53.047517Z",
     "start_time": "2021-11-03T22:35:53.029637Z"
    }
   },
   "outputs": [
    {
     "data": {
      "text/html": [
       "<div>\n",
       "<style scoped>\n",
       "    .dataframe tbody tr th:only-of-type {\n",
       "        vertical-align: middle;\n",
       "    }\n",
       "\n",
       "    .dataframe tbody tr th {\n",
       "        vertical-align: top;\n",
       "    }\n",
       "\n",
       "    .dataframe thead th {\n",
       "        text-align: right;\n",
       "    }\n",
       "</style>\n",
       "<table border=\"1\" class=\"dataframe\">\n",
       "  <thead>\n",
       "    <tr style=\"text-align: right;\">\n",
       "      <th></th>\n",
       "      <th>Address</th>\n",
       "      <th>Zip</th>\n",
       "      <th>Price</th>\n",
       "      <th>Area</th>\n",
       "      <th>Room</th>\n",
       "      <th>Lon</th>\n",
       "      <th>Lat</th>\n",
       "      <th>Zip_number</th>\n",
       "      <th>Price_per_sqm</th>\n",
       "    </tr>\n",
       "  </thead>\n",
       "  <tbody>\n",
       "    <tr>\n",
       "      <th>1</th>\n",
       "      <td>Blasiusstraat 8 2</td>\n",
       "      <td>1091 CR</td>\n",
       "      <td>685000.0</td>\n",
       "      <td>64.0</td>\n",
       "      <td>3</td>\n",
       "      <td>4.907736</td>\n",
       "      <td>52.356157</td>\n",
       "      <td>1091</td>\n",
       "      <td>10703.125000</td>\n",
       "    </tr>\n",
       "    <tr>\n",
       "      <th>2</th>\n",
       "      <td>Kromme Leimuidenstraat 13 H</td>\n",
       "      <td>1059 EL</td>\n",
       "      <td>475000.0</td>\n",
       "      <td>60.0</td>\n",
       "      <td>3</td>\n",
       "      <td>4.850476</td>\n",
       "      <td>52.348586</td>\n",
       "      <td>1059</td>\n",
       "      <td>7916.666667</td>\n",
       "    </tr>\n",
       "    <tr>\n",
       "      <th>3</th>\n",
       "      <td>Zaaiersweg 11 A</td>\n",
       "      <td>1097 SM</td>\n",
       "      <td>850000.0</td>\n",
       "      <td>109.0</td>\n",
       "      <td>4</td>\n",
       "      <td>4.944774</td>\n",
       "      <td>52.343782</td>\n",
       "      <td>1097</td>\n",
       "      <td>7798.165138</td>\n",
       "    </tr>\n",
       "    <tr>\n",
       "      <th>4</th>\n",
       "      <td>Tenerifestraat 40</td>\n",
       "      <td>1060 TH</td>\n",
       "      <td>580000.0</td>\n",
       "      <td>128.0</td>\n",
       "      <td>6</td>\n",
       "      <td>4.789928</td>\n",
       "      <td>52.343712</td>\n",
       "      <td>1060</td>\n",
       "      <td>4531.250000</td>\n",
       "    </tr>\n",
       "    <tr>\n",
       "      <th>5</th>\n",
       "      <td>Winterjanpad 21</td>\n",
       "      <td>1036 KN</td>\n",
       "      <td>720000.0</td>\n",
       "      <td>138.0</td>\n",
       "      <td>5</td>\n",
       "      <td>4.902503</td>\n",
       "      <td>52.410538</td>\n",
       "      <td>1036</td>\n",
       "      <td>5217.391304</td>\n",
       "    </tr>\n",
       "  </tbody>\n",
       "</table>\n",
       "</div>"
      ],
      "text/plain": [
       "                       Address      Zip     Price   Area  Room       Lon  \\\n",
       "1            Blasiusstraat 8 2  1091 CR  685000.0   64.0     3  4.907736   \n",
       "2  Kromme Leimuidenstraat 13 H  1059 EL  475000.0   60.0     3  4.850476   \n",
       "3              Zaaiersweg 11 A  1097 SM  850000.0  109.0     4  4.944774   \n",
       "4            Tenerifestraat 40  1060 TH  580000.0  128.0     6  4.789928   \n",
       "5              Winterjanpad 21  1036 KN  720000.0  138.0     5  4.902503   \n",
       "\n",
       "         Lat Zip_number  Price_per_sqm  \n",
       "1  52.356157       1091   10703.125000  \n",
       "2  52.348586       1059    7916.666667  \n",
       "3  52.343782       1097    7798.165138  \n",
       "4  52.343712       1060    4531.250000  \n",
       "5  52.410538       1036    5217.391304  "
      ]
     },
     "execution_count": 89,
     "metadata": {},
     "output_type": "execute_result"
    }
   ],
   "source": [
    "df5['Price_per_sqm'] = df5['Price']/df5['Area']\n",
    "df5.head()"
   ]
  },
  {
   "cell_type": "code",
   "execution_count": 90,
   "id": "09a61936",
   "metadata": {
    "ExecuteTime": {
     "end_time": "2021-11-03T22:35:57.791785Z",
     "start_time": "2021-11-03T22:35:57.780146Z"
    }
   },
   "outputs": [
    {
     "data": {
      "text/plain": [
       "count      919.000000\n",
       "mean      6482.099793\n",
       "std       2219.425824\n",
       "min       2430.555556\n",
       "25%       4658.914729\n",
       "50%       6578.947368\n",
       "75%       7771.867612\n",
       "max      25252.808989\n",
       "Name: Price_per_sqm, dtype: float64"
      ]
     },
     "execution_count": 90,
     "metadata": {},
     "output_type": "execute_result"
    }
   ],
   "source": [
    "df5['Price_per_sqm'].describe()"
   ]
  },
  {
   "cell_type": "markdown",
   "id": "f1a88546",
   "metadata": {},
   "source": [
    "# Data Analysis and Visualization"
   ]
  },
  {
   "cell_type": "code",
   "execution_count": 91,
   "id": "3ea68123",
   "metadata": {
    "ExecuteTime": {
     "end_time": "2021-11-03T22:36:01.105581Z",
     "start_time": "2021-11-03T22:36:01.084785Z"
    }
   },
   "outputs": [
    {
     "name": "stdout",
     "output_type": "stream",
     "text": [
      "<class 'pandas.core.frame.DataFrame'>\n",
      "Int64Index: 919 entries, 1 to 924\n",
      "Data columns (total 9 columns):\n",
      " #   Column         Non-Null Count  Dtype  \n",
      "---  ------         --------------  -----  \n",
      " 0   Address        919 non-null    object \n",
      " 1   Zip            919 non-null    object \n",
      " 2   Price          919 non-null    float64\n",
      " 3   Area           919 non-null    float64\n",
      " 4   Room           919 non-null    int64  \n",
      " 5   Lon            919 non-null    float64\n",
      " 6   Lat            919 non-null    float64\n",
      " 7   Zip_number     919 non-null    object \n",
      " 8   Price_per_sqm  919 non-null    float64\n",
      "dtypes: float64(5), int64(1), object(3)\n",
      "memory usage: 104.1+ KB\n"
     ]
    }
   ],
   "source": [
    "df5.info()"
   ]
  },
  {
   "cell_type": "markdown",
   "id": "d5f0f40c",
   "metadata": {},
   "source": [
    "## Distance From City Center : Geolocation\n",
    "\n",
    "We Choose the Amsterdam Central Station (lat 52.378901,lon 4.9005805) as Amsterdam city center. \n",
    "\n",
    "source : https://nominatim.openstreetmap.org/ui/details.html?osmtype=N&osmid=4290854847&class=railway\n",
    "\n",
    "We will use this to calculate the distance of every house in the dataset from Amsterdam city centre."
   ]
  },
  {
   "attachments": {
    "image.png": {
     "image/png": "[encoded data removed]"
    }
   },
   "cell_type": "markdown",
   "id": "b5c1d385",
   "metadata": {},
   "source": [
    "![image.png](attachment:image.png)"
   ]
  },
  {
   "cell_type": "code",
   "execution_count": 92,
   "id": "bca11845",
   "metadata": {
    "ExecuteTime": {
     "end_time": "2021-11-03T22:36:05.988030Z",
     "start_time": "2021-11-03T22:36:05.971368Z"
    }
   },
   "outputs": [
    {
     "data": {
      "text/html": [
       "<div>\n",
       "<style scoped>\n",
       "    .dataframe tbody tr th:only-of-type {\n",
       "        vertical-align: middle;\n",
       "    }\n",
       "\n",
       "    .dataframe tbody tr th {\n",
       "        vertical-align: top;\n",
       "    }\n",
       "\n",
       "    .dataframe thead th {\n",
       "        text-align: right;\n",
       "    }\n",
       "</style>\n",
       "<table border=\"1\" class=\"dataframe\">\n",
       "  <thead>\n",
       "    <tr style=\"text-align: right;\">\n",
       "      <th></th>\n",
       "      <th>Address</th>\n",
       "      <th>Zip</th>\n",
       "      <th>Price</th>\n",
       "      <th>Area</th>\n",
       "      <th>Room</th>\n",
       "      <th>Lon</th>\n",
       "      <th>Lat</th>\n",
       "      <th>Zip_number</th>\n",
       "      <th>Price_per_sqm</th>\n",
       "    </tr>\n",
       "  </thead>\n",
       "  <tbody>\n",
       "    <tr>\n",
       "      <th>1</th>\n",
       "      <td>Blasiusstraat 8 2</td>\n",
       "      <td>1091 CR</td>\n",
       "      <td>685000.0</td>\n",
       "      <td>64.0</td>\n",
       "      <td>3</td>\n",
       "      <td>4.907736</td>\n",
       "      <td>52.356157</td>\n",
       "      <td>1091</td>\n",
       "      <td>10703.125000</td>\n",
       "    </tr>\n",
       "    <tr>\n",
       "      <th>2</th>\n",
       "      <td>Kromme Leimuidenstraat 13 H</td>\n",
       "      <td>1059 EL</td>\n",
       "      <td>475000.0</td>\n",
       "      <td>60.0</td>\n",
       "      <td>3</td>\n",
       "      <td>4.850476</td>\n",
       "      <td>52.348586</td>\n",
       "      <td>1059</td>\n",
       "      <td>7916.666667</td>\n",
       "    </tr>\n",
       "    <tr>\n",
       "      <th>3</th>\n",
       "      <td>Zaaiersweg 11 A</td>\n",
       "      <td>1097 SM</td>\n",
       "      <td>850000.0</td>\n",
       "      <td>109.0</td>\n",
       "      <td>4</td>\n",
       "      <td>4.944774</td>\n",
       "      <td>52.343782</td>\n",
       "      <td>1097</td>\n",
       "      <td>7798.165138</td>\n",
       "    </tr>\n",
       "    <tr>\n",
       "      <th>4</th>\n",
       "      <td>Tenerifestraat 40</td>\n",
       "      <td>1060 TH</td>\n",
       "      <td>580000.0</td>\n",
       "      <td>128.0</td>\n",
       "      <td>6</td>\n",
       "      <td>4.789928</td>\n",
       "      <td>52.343712</td>\n",
       "      <td>1060</td>\n",
       "      <td>4531.250000</td>\n",
       "    </tr>\n",
       "    <tr>\n",
       "      <th>5</th>\n",
       "      <td>Winterjanpad 21</td>\n",
       "      <td>1036 KN</td>\n",
       "      <td>720000.0</td>\n",
       "      <td>138.0</td>\n",
       "      <td>5</td>\n",
       "      <td>4.902503</td>\n",
       "      <td>52.410538</td>\n",
       "      <td>1036</td>\n",
       "      <td>5217.391304</td>\n",
       "    </tr>\n",
       "  </tbody>\n",
       "</table>\n",
       "</div>"
      ],
      "text/plain": [
       "                       Address      Zip     Price   Area  Room       Lon  \\\n",
       "1            Blasiusstraat 8 2  1091 CR  685000.0   64.0     3  4.907736   \n",
       "2  Kromme Leimuidenstraat 13 H  1059 EL  475000.0   60.0     3  4.850476   \n",
       "3              Zaaiersweg 11 A  1097 SM  850000.0  109.0     4  4.944774   \n",
       "4            Tenerifestraat 40  1060 TH  580000.0  128.0     6  4.789928   \n",
       "5              Winterjanpad 21  1036 KN  720000.0  138.0     5  4.902503   \n",
       "\n",
       "         Lat Zip_number  Price_per_sqm  \n",
       "1  52.356157       1091   10703.125000  \n",
       "2  52.348586       1059    7916.666667  \n",
       "3  52.343782       1097    7798.165138  \n",
       "4  52.343712       1060    4531.250000  \n",
       "5  52.410538       1036    5217.391304  "
      ]
     },
     "execution_count": 92,
     "metadata": {},
     "output_type": "execute_result"
    }
   ],
   "source": [
    "df6 = df5.copy()\n",
    "df6.head()"
   ]
  },
  {
   "cell_type": "code",
   "execution_count": 94,
   "id": "efc8845c",
   "metadata": {
    "ExecuteTime": {
     "end_time": "2021-11-03T22:36:29.639151Z",
     "start_time": "2021-11-03T22:36:29.634729Z"
    }
   },
   "outputs": [],
   "source": [
    "# the haversine formula determines the great-circle distance between two points on a sphere given their longitudes and latitudes\n",
    "\n",
    "def haversine_distance(lat1, lon1, lat2, lon2):\n",
    "    r = 6371\n",
    "    phi1 = np.radians(lat1)\n",
    "    phi2 = np.radians(lat2)\n",
    "    delta_phi = np.radians(lat2 - lat1)\n",
    "    delta_lambda = np.radians(lon2 - lon1)\n",
    "    a = np.sin(delta_phi / 2)**2 + np.cos(phi1) * np.cos(phi2) * np.sin(delta_lambda / 2)**2\n",
    "    res = r * (2 * np.arctan2(np.sqrt(a), np.sqrt(1 - a)))\n",
    "    return np.round(res, 2)\n",
    "\n",
    "Start_lat = 52.378901 # Amsterdam Central station (lat 52.378901,lon 4.9005805) \n",
    "Start_lon = 4.9005805\n",
    "\n",
    "# Reference of this code\n",
    "# https://towardsdatascience.com/heres-how-to-calculate-distance-between-2-geolocations-in-python-93ecab5bbba4\n",
    "# https://en.wikipedia.org/wiki/Haversine_formula"
   ]
  },
  {
   "cell_type": "code",
   "execution_count": 95,
   "id": "9863bb0b",
   "metadata": {
    "ExecuteTime": {
     "end_time": "2021-11-03T22:36:31.807958Z",
     "start_time": "2021-11-03T22:36:31.771945Z"
    }
   },
   "outputs": [],
   "source": [
    "distances_km = []\n",
    "for row in df6.itertuples(index=False):\n",
    "    distances_km.append(haversine_distance(Start_lat, Start_lon, row.Lat, row.Lon))\n",
    "    \n",
    "df6['Dist From Amsterdam Central (km)'] = distances_km"
   ]
  },
  {
   "cell_type": "code",
   "execution_count": 96,
   "id": "c8fd9437",
   "metadata": {
    "ExecuteTime": {
     "end_time": "2021-11-03T22:36:34.025083Z",
     "start_time": "2021-11-03T22:36:34.013114Z"
    }
   },
   "outputs": [
    {
     "data": {
      "text/html": [
       "<div>\n",
       "<style scoped>\n",
       "    .dataframe tbody tr th:only-of-type {\n",
       "        vertical-align: middle;\n",
       "    }\n",
       "\n",
       "    .dataframe tbody tr th {\n",
       "        vertical-align: top;\n",
       "    }\n",
       "\n",
       "    .dataframe thead th {\n",
       "        text-align: right;\n",
       "    }\n",
       "</style>\n",
       "<table border=\"1\" class=\"dataframe\">\n",
       "  <thead>\n",
       "    <tr style=\"text-align: right;\">\n",
       "      <th></th>\n",
       "      <th>Address</th>\n",
       "      <th>Zip</th>\n",
       "      <th>Price</th>\n",
       "      <th>Area</th>\n",
       "      <th>Room</th>\n",
       "      <th>Lon</th>\n",
       "      <th>Lat</th>\n",
       "      <th>Zip_number</th>\n",
       "      <th>Price_per_sqm</th>\n",
       "      <th>Dist From Amsterdam Central (km)</th>\n",
       "    </tr>\n",
       "  </thead>\n",
       "  <tbody>\n",
       "    <tr>\n",
       "      <th>1</th>\n",
       "      <td>Blasiusstraat 8 2</td>\n",
       "      <td>1091 CR</td>\n",
       "      <td>685000.0</td>\n",
       "      <td>64.0</td>\n",
       "      <td>3</td>\n",
       "      <td>4.907736</td>\n",
       "      <td>52.356157</td>\n",
       "      <td>1091</td>\n",
       "      <td>10703.125000</td>\n",
       "      <td>2.58</td>\n",
       "    </tr>\n",
       "    <tr>\n",
       "      <th>2</th>\n",
       "      <td>Kromme Leimuidenstraat 13 H</td>\n",
       "      <td>1059 EL</td>\n",
       "      <td>475000.0</td>\n",
       "      <td>60.0</td>\n",
       "      <td>3</td>\n",
       "      <td>4.850476</td>\n",
       "      <td>52.348586</td>\n",
       "      <td>1059</td>\n",
       "      <td>7916.666667</td>\n",
       "      <td>4.79</td>\n",
       "    </tr>\n",
       "    <tr>\n",
       "      <th>3</th>\n",
       "      <td>Zaaiersweg 11 A</td>\n",
       "      <td>1097 SM</td>\n",
       "      <td>850000.0</td>\n",
       "      <td>109.0</td>\n",
       "      <td>4</td>\n",
       "      <td>4.944774</td>\n",
       "      <td>52.343782</td>\n",
       "      <td>1097</td>\n",
       "      <td>7798.165138</td>\n",
       "      <td>4.92</td>\n",
       "    </tr>\n",
       "    <tr>\n",
       "      <th>4</th>\n",
       "      <td>Tenerifestraat 40</td>\n",
       "      <td>1060 TH</td>\n",
       "      <td>580000.0</td>\n",
       "      <td>128.0</td>\n",
       "      <td>6</td>\n",
       "      <td>4.789928</td>\n",
       "      <td>52.343712</td>\n",
       "      <td>1060</td>\n",
       "      <td>4531.250000</td>\n",
       "      <td>8.47</td>\n",
       "    </tr>\n",
       "    <tr>\n",
       "      <th>5</th>\n",
       "      <td>Winterjanpad 21</td>\n",
       "      <td>1036 KN</td>\n",
       "      <td>720000.0</td>\n",
       "      <td>138.0</td>\n",
       "      <td>5</td>\n",
       "      <td>4.902503</td>\n",
       "      <td>52.410538</td>\n",
       "      <td>1036</td>\n",
       "      <td>5217.391304</td>\n",
       "      <td>3.52</td>\n",
       "    </tr>\n",
       "  </tbody>\n",
       "</table>\n",
       "</div>"
      ],
      "text/plain": [
       "                       Address      Zip     Price   Area  Room       Lon  \\\n",
       "1            Blasiusstraat 8 2  1091 CR  685000.0   64.0     3  4.907736   \n",
       "2  Kromme Leimuidenstraat 13 H  1059 EL  475000.0   60.0     3  4.850476   \n",
       "3              Zaaiersweg 11 A  1097 SM  850000.0  109.0     4  4.944774   \n",
       "4            Tenerifestraat 40  1060 TH  580000.0  128.0     6  4.789928   \n",
       "5              Winterjanpad 21  1036 KN  720000.0  138.0     5  4.902503   \n",
       "\n",
       "         Lat Zip_number  Price_per_sqm  Dist From Amsterdam Central (km)  \n",
       "1  52.356157       1091   10703.125000                              2.58  \n",
       "2  52.348586       1059    7916.666667                              4.79  \n",
       "3  52.343782       1097    7798.165138                              4.92  \n",
       "4  52.343712       1060    4531.250000                              8.47  \n",
       "5  52.410538       1036    5217.391304                              3.52  "
      ]
     },
     "execution_count": 96,
     "metadata": {},
     "output_type": "execute_result"
    }
   ],
   "source": [
    "df6.head()"
   ]
  },
  {
   "cell_type": "code",
   "execution_count": 97,
   "id": "e7c45235",
   "metadata": {
    "ExecuteTime": {
     "end_time": "2021-11-03T22:36:39.377523Z",
     "start_time": "2021-11-03T22:36:39.371835Z"
    }
   },
   "outputs": [
    {
     "data": {
      "text/plain": [
       "Int64Index([  1,   2,   3,   4,   5,   6,   7,   8,   9,  10,\n",
       "            ...\n",
       "            915, 916, 917, 918, 919, 920, 921, 922, 923, 924],\n",
       "           dtype='int64', length=919)"
      ]
     },
     "execution_count": 97,
     "metadata": {},
     "output_type": "execute_result"
    }
   ],
   "source": [
    "df6.index"
   ]
  },
  {
   "cell_type": "code",
   "execution_count": 98,
   "id": "56cd882f",
   "metadata": {
    "ExecuteTime": {
     "end_time": "2021-11-03T22:36:41.238558Z",
     "start_time": "2021-11-03T22:36:41.212969Z"
    }
   },
   "outputs": [
    {
     "data": {
      "text/html": [
       "<div>\n",
       "<style scoped>\n",
       "    .dataframe tbody tr th:only-of-type {\n",
       "        vertical-align: middle;\n",
       "    }\n",
       "\n",
       "    .dataframe tbody tr th {\n",
       "        vertical-align: top;\n",
       "    }\n",
       "\n",
       "    .dataframe thead th {\n",
       "        text-align: right;\n",
       "    }\n",
       "</style>\n",
       "<table border=\"1\" class=\"dataframe\">\n",
       "  <thead>\n",
       "    <tr style=\"text-align: right;\">\n",
       "      <th></th>\n",
       "      <th>Address</th>\n",
       "      <th>Zip</th>\n",
       "      <th>Price</th>\n",
       "      <th>Area</th>\n",
       "      <th>Room</th>\n",
       "      <th>Lon</th>\n",
       "      <th>Lat</th>\n",
       "      <th>Zip_number</th>\n",
       "      <th>Price_per_sqm</th>\n",
       "      <th>Dist From Amsterdam Central (km)</th>\n",
       "    </tr>\n",
       "  </thead>\n",
       "  <tbody>\n",
       "    <tr>\n",
       "      <th>871</th>\n",
       "      <td>Warmoesstraat 16 M</td>\n",
       "      <td>1012 JD</td>\n",
       "      <td>785000.0</td>\n",
       "      <td>112.0</td>\n",
       "      <td>3</td>\n",
       "      <td>4.899032</td>\n",
       "      <td>52.376065</td>\n",
       "      <td>1012</td>\n",
       "      <td>7008.928571</td>\n",
       "      <td>0.33</td>\n",
       "    </tr>\n",
       "    <tr>\n",
       "      <th>878</th>\n",
       "      <td>Geldersekade 11 II</td>\n",
       "      <td>1011 EH</td>\n",
       "      <td>512000.0</td>\n",
       "      <td>64.0</td>\n",
       "      <td>2</td>\n",
       "      <td>4.902531</td>\n",
       "      <td>52.375720</td>\n",
       "      <td>1011</td>\n",
       "      <td>8000.000000</td>\n",
       "      <td>0.38</td>\n",
       "    </tr>\n",
       "    <tr>\n",
       "      <th>908</th>\n",
       "      <td>Geldersekade 37 II</td>\n",
       "      <td>1011 EJ</td>\n",
       "      <td>695000.0</td>\n",
       "      <td>96.0</td>\n",
       "      <td>3</td>\n",
       "      <td>4.902359</td>\n",
       "      <td>52.375360</td>\n",
       "      <td>1011</td>\n",
       "      <td>7239.583333</td>\n",
       "      <td>0.41</td>\n",
       "    </tr>\n",
       "    <tr>\n",
       "      <th>208</th>\n",
       "      <td>Geldersekade 52 A</td>\n",
       "      <td>1012 BJ</td>\n",
       "      <td>729000.0</td>\n",
       "      <td>110.0</td>\n",
       "      <td>5</td>\n",
       "      <td>4.901320</td>\n",
       "      <td>52.375059</td>\n",
       "      <td>1012</td>\n",
       "      <td>6627.272727</td>\n",
       "      <td>0.43</td>\n",
       "    </tr>\n",
       "    <tr>\n",
       "      <th>225</th>\n",
       "      <td>Droogbak 5 B</td>\n",
       "      <td>1013 GE</td>\n",
       "      <td>595000.0</td>\n",
       "      <td>78.0</td>\n",
       "      <td>3</td>\n",
       "      <td>4.893924</td>\n",
       "      <td>52.379828</td>\n",
       "      <td>1013</td>\n",
       "      <td>7628.205128</td>\n",
       "      <td>0.46</td>\n",
       "    </tr>\n",
       "    <tr>\n",
       "      <th>...</th>\n",
       "      <td>...</td>\n",
       "      <td>...</td>\n",
       "      <td>...</td>\n",
       "      <td>...</td>\n",
       "      <td>...</td>\n",
       "      <td>...</td>\n",
       "      <td>...</td>\n",
       "      <td>...</td>\n",
       "      <td>...</td>\n",
       "      <td>...</td>\n",
       "    </tr>\n",
       "    <tr>\n",
       "      <th>376</th>\n",
       "      <td>Wethouder Ramstraat 11</td>\n",
       "      <td>1107 CM</td>\n",
       "      <td>375000.0</td>\n",
       "      <td>98.0</td>\n",
       "      <td>5</td>\n",
       "      <td>4.990488</td>\n",
       "      <td>52.292974</td>\n",
       "      <td>1107</td>\n",
       "      <td>3826.530612</td>\n",
       "      <td>11.34</td>\n",
       "    </tr>\n",
       "    <tr>\n",
       "      <th>801</th>\n",
       "      <td>Lange Stammerdijk 1 G</td>\n",
       "      <td>1109 BK</td>\n",
       "      <td>549001.0</td>\n",
       "      <td>107.0</td>\n",
       "      <td>4</td>\n",
       "      <td>5.016522</td>\n",
       "      <td>52.305075</td>\n",
       "      <td>1109</td>\n",
       "      <td>5130.850467</td>\n",
       "      <td>11.38</td>\n",
       "    </tr>\n",
       "    <tr>\n",
       "      <th>78</th>\n",
       "      <td>Wethouder Wierdelsstraat 6</td>\n",
       "      <td>1107 DK</td>\n",
       "      <td>395000.0</td>\n",
       "      <td>101.0</td>\n",
       "      <td>5</td>\n",
       "      <td>4.993551</td>\n",
       "      <td>52.292948</td>\n",
       "      <td>1107</td>\n",
       "      <td>3910.891089</td>\n",
       "      <td>11.46</td>\n",
       "    </tr>\n",
       "    <tr>\n",
       "      <th>628</th>\n",
       "      <td>Ter Haarstraat 21 E</td>\n",
       "      <td>1053 LH</td>\n",
       "      <td>875000.0</td>\n",
       "      <td>108.0</td>\n",
       "      <td>4</td>\n",
       "      <td>4.655161</td>\n",
       "      <td>52.376552</td>\n",
       "      <td>1053</td>\n",
       "      <td>8101.851852</td>\n",
       "      <td>16.66</td>\n",
       "    </tr>\n",
       "    <tr>\n",
       "      <th>213</th>\n",
       "      <td>Lijnbaansstraat 7</td>\n",
       "      <td>1016 ST</td>\n",
       "      <td>950000.0</td>\n",
       "      <td>133.0</td>\n",
       "      <td>7</td>\n",
       "      <td>4.644819</td>\n",
       "      <td>52.378060</td>\n",
       "      <td>1016</td>\n",
       "      <td>7142.857143</td>\n",
       "      <td>17.36</td>\n",
       "    </tr>\n",
       "  </tbody>\n",
       "</table>\n",
       "<p>919 rows × 10 columns</p>\n",
       "</div>"
      ],
      "text/plain": [
       "                        Address      Zip     Price   Area  Room       Lon  \\\n",
       "871          Warmoesstraat 16 M  1012 JD  785000.0  112.0     3  4.899032   \n",
       "878          Geldersekade 11 II  1011 EH  512000.0   64.0     2  4.902531   \n",
       "908          Geldersekade 37 II  1011 EJ  695000.0   96.0     3  4.902359   \n",
       "208           Geldersekade 52 A  1012 BJ  729000.0  110.0     5  4.901320   \n",
       "225                Droogbak 5 B  1013 GE  595000.0   78.0     3  4.893924   \n",
       "..                          ...      ...       ...    ...   ...       ...   \n",
       "376      Wethouder Ramstraat 11  1107 CM  375000.0   98.0     5  4.990488   \n",
       "801       Lange Stammerdijk 1 G  1109 BK  549001.0  107.0     4  5.016522   \n",
       "78   Wethouder Wierdelsstraat 6  1107 DK  395000.0  101.0     5  4.993551   \n",
       "628         Ter Haarstraat 21 E  1053 LH  875000.0  108.0     4  4.655161   \n",
       "213           Lijnbaansstraat 7  1016 ST  950000.0  133.0     7  4.644819   \n",
       "\n",
       "           Lat Zip_number  Price_per_sqm  Dist From Amsterdam Central (km)  \n",
       "871  52.376065       1012    7008.928571                              0.33  \n",
       "878  52.375720       1011    8000.000000                              0.38  \n",
       "908  52.375360       1011    7239.583333                              0.41  \n",
       "208  52.375059       1012    6627.272727                              0.43  \n",
       "225  52.379828       1013    7628.205128                              0.46  \n",
       "..         ...        ...            ...                               ...  \n",
       "376  52.292974       1107    3826.530612                             11.34  \n",
       "801  52.305075       1109    5130.850467                             11.38  \n",
       "78   52.292948       1107    3910.891089                             11.46  \n",
       "628  52.376552       1053    8101.851852                             16.66  \n",
       "213  52.378060       1016    7142.857143                             17.36  \n",
       "\n",
       "[919 rows x 10 columns]"
      ]
     },
     "execution_count": 98,
     "metadata": {},
     "output_type": "execute_result"
    }
   ],
   "source": [
    "df7 = df6.sort_values('Dist From Amsterdam Central (km)')\n",
    "df7"
   ]
  },
  {
   "cell_type": "code",
   "execution_count": 99,
   "id": "cbc4e9a2",
   "metadata": {
    "ExecuteTime": {
     "end_time": "2021-11-03T22:36:45.341180Z",
     "start_time": "2021-11-03T22:36:45.323186Z"
    }
   },
   "outputs": [
    {
     "data": {
      "text/html": [
       "<div>\n",
       "<style scoped>\n",
       "    .dataframe tbody tr th:only-of-type {\n",
       "        vertical-align: middle;\n",
       "    }\n",
       "\n",
       "    .dataframe tbody tr th {\n",
       "        vertical-align: top;\n",
       "    }\n",
       "\n",
       "    .dataframe thead th {\n",
       "        text-align: right;\n",
       "    }\n",
       "</style>\n",
       "<table border=\"1\" class=\"dataframe\">\n",
       "  <thead>\n",
       "    <tr style=\"text-align: right;\">\n",
       "      <th></th>\n",
       "      <th>Address</th>\n",
       "      <th>Zip</th>\n",
       "      <th>Price</th>\n",
       "      <th>Area</th>\n",
       "      <th>Room</th>\n",
       "      <th>Lon</th>\n",
       "      <th>Lat</th>\n",
       "      <th>Zip_number</th>\n",
       "      <th>Price_per_sqm</th>\n",
       "      <th>Dist From Amsterdam Central (km)</th>\n",
       "    </tr>\n",
       "  </thead>\n",
       "  <tbody>\n",
       "    <tr>\n",
       "      <th>0</th>\n",
       "      <td>Warmoesstraat 16 M</td>\n",
       "      <td>1012 JD</td>\n",
       "      <td>785000.0</td>\n",
       "      <td>112.0</td>\n",
       "      <td>3</td>\n",
       "      <td>4.899032</td>\n",
       "      <td>52.376065</td>\n",
       "      <td>1012</td>\n",
       "      <td>7008.928571</td>\n",
       "      <td>0.33</td>\n",
       "    </tr>\n",
       "    <tr>\n",
       "      <th>1</th>\n",
       "      <td>Geldersekade 11 II</td>\n",
       "      <td>1011 EH</td>\n",
       "      <td>512000.0</td>\n",
       "      <td>64.0</td>\n",
       "      <td>2</td>\n",
       "      <td>4.902531</td>\n",
       "      <td>52.375720</td>\n",
       "      <td>1011</td>\n",
       "      <td>8000.000000</td>\n",
       "      <td>0.38</td>\n",
       "    </tr>\n",
       "    <tr>\n",
       "      <th>2</th>\n",
       "      <td>Geldersekade 37 II</td>\n",
       "      <td>1011 EJ</td>\n",
       "      <td>695000.0</td>\n",
       "      <td>96.0</td>\n",
       "      <td>3</td>\n",
       "      <td>4.902359</td>\n",
       "      <td>52.375360</td>\n",
       "      <td>1011</td>\n",
       "      <td>7239.583333</td>\n",
       "      <td>0.41</td>\n",
       "    </tr>\n",
       "    <tr>\n",
       "      <th>3</th>\n",
       "      <td>Geldersekade 52 A</td>\n",
       "      <td>1012 BJ</td>\n",
       "      <td>729000.0</td>\n",
       "      <td>110.0</td>\n",
       "      <td>5</td>\n",
       "      <td>4.901320</td>\n",
       "      <td>52.375059</td>\n",
       "      <td>1012</td>\n",
       "      <td>6627.272727</td>\n",
       "      <td>0.43</td>\n",
       "    </tr>\n",
       "    <tr>\n",
       "      <th>4</th>\n",
       "      <td>Droogbak 5 B</td>\n",
       "      <td>1013 GE</td>\n",
       "      <td>595000.0</td>\n",
       "      <td>78.0</td>\n",
       "      <td>3</td>\n",
       "      <td>4.893924</td>\n",
       "      <td>52.379828</td>\n",
       "      <td>1013</td>\n",
       "      <td>7628.205128</td>\n",
       "      <td>0.46</td>\n",
       "    </tr>\n",
       "    <tr>\n",
       "      <th>...</th>\n",
       "      <td>...</td>\n",
       "      <td>...</td>\n",
       "      <td>...</td>\n",
       "      <td>...</td>\n",
       "      <td>...</td>\n",
       "      <td>...</td>\n",
       "      <td>...</td>\n",
       "      <td>...</td>\n",
       "      <td>...</td>\n",
       "      <td>...</td>\n",
       "    </tr>\n",
       "    <tr>\n",
       "      <th>914</th>\n",
       "      <td>Wethouder Ramstraat 11</td>\n",
       "      <td>1107 CM</td>\n",
       "      <td>375000.0</td>\n",
       "      <td>98.0</td>\n",
       "      <td>5</td>\n",
       "      <td>4.990488</td>\n",
       "      <td>52.292974</td>\n",
       "      <td>1107</td>\n",
       "      <td>3826.530612</td>\n",
       "      <td>11.34</td>\n",
       "    </tr>\n",
       "    <tr>\n",
       "      <th>915</th>\n",
       "      <td>Lange Stammerdijk 1 G</td>\n",
       "      <td>1109 BK</td>\n",
       "      <td>549001.0</td>\n",
       "      <td>107.0</td>\n",
       "      <td>4</td>\n",
       "      <td>5.016522</td>\n",
       "      <td>52.305075</td>\n",
       "      <td>1109</td>\n",
       "      <td>5130.850467</td>\n",
       "      <td>11.38</td>\n",
       "    </tr>\n",
       "    <tr>\n",
       "      <th>916</th>\n",
       "      <td>Wethouder Wierdelsstraat 6</td>\n",
       "      <td>1107 DK</td>\n",
       "      <td>395000.0</td>\n",
       "      <td>101.0</td>\n",
       "      <td>5</td>\n",
       "      <td>4.993551</td>\n",
       "      <td>52.292948</td>\n",
       "      <td>1107</td>\n",
       "      <td>3910.891089</td>\n",
       "      <td>11.46</td>\n",
       "    </tr>\n",
       "    <tr>\n",
       "      <th>917</th>\n",
       "      <td>Ter Haarstraat 21 E</td>\n",
       "      <td>1053 LH</td>\n",
       "      <td>875000.0</td>\n",
       "      <td>108.0</td>\n",
       "      <td>4</td>\n",
       "      <td>4.655161</td>\n",
       "      <td>52.376552</td>\n",
       "      <td>1053</td>\n",
       "      <td>8101.851852</td>\n",
       "      <td>16.66</td>\n",
       "    </tr>\n",
       "    <tr>\n",
       "      <th>918</th>\n",
       "      <td>Lijnbaansstraat 7</td>\n",
       "      <td>1016 ST</td>\n",
       "      <td>950000.0</td>\n",
       "      <td>133.0</td>\n",
       "      <td>7</td>\n",
       "      <td>4.644819</td>\n",
       "      <td>52.378060</td>\n",
       "      <td>1016</td>\n",
       "      <td>7142.857143</td>\n",
       "      <td>17.36</td>\n",
       "    </tr>\n",
       "  </tbody>\n",
       "</table>\n",
       "<p>919 rows × 10 columns</p>\n",
       "</div>"
      ],
      "text/plain": [
       "                        Address      Zip     Price   Area  Room       Lon  \\\n",
       "0            Warmoesstraat 16 M  1012 JD  785000.0  112.0     3  4.899032   \n",
       "1            Geldersekade 11 II  1011 EH  512000.0   64.0     2  4.902531   \n",
       "2            Geldersekade 37 II  1011 EJ  695000.0   96.0     3  4.902359   \n",
       "3             Geldersekade 52 A  1012 BJ  729000.0  110.0     5  4.901320   \n",
       "4                  Droogbak 5 B  1013 GE  595000.0   78.0     3  4.893924   \n",
       "..                          ...      ...       ...    ...   ...       ...   \n",
       "914      Wethouder Ramstraat 11  1107 CM  375000.0   98.0     5  4.990488   \n",
       "915       Lange Stammerdijk 1 G  1109 BK  549001.0  107.0     4  5.016522   \n",
       "916  Wethouder Wierdelsstraat 6  1107 DK  395000.0  101.0     5  4.993551   \n",
       "917         Ter Haarstraat 21 E  1053 LH  875000.0  108.0     4  4.655161   \n",
       "918           Lijnbaansstraat 7  1016 ST  950000.0  133.0     7  4.644819   \n",
       "\n",
       "           Lat Zip_number  Price_per_sqm  Dist From Amsterdam Central (km)  \n",
       "0    52.376065       1012    7008.928571                              0.33  \n",
       "1    52.375720       1011    8000.000000                              0.38  \n",
       "2    52.375360       1011    7239.583333                              0.41  \n",
       "3    52.375059       1012    6627.272727                              0.43  \n",
       "4    52.379828       1013    7628.205128                              0.46  \n",
       "..         ...        ...            ...                               ...  \n",
       "914  52.292974       1107    3826.530612                             11.34  \n",
       "915  52.305075       1109    5130.850467                             11.38  \n",
       "916  52.292948       1107    3910.891089                             11.46  \n",
       "917  52.376552       1053    8101.851852                             16.66  \n",
       "918  52.378060       1016    7142.857143                             17.36  \n",
       "\n",
       "[919 rows x 10 columns]"
      ]
     },
     "execution_count": 99,
     "metadata": {},
     "output_type": "execute_result"
    }
   ],
   "source": [
    "df7.reset_index(drop = True)"
   ]
  },
  {
   "cell_type": "markdown",
   "id": "a296a834",
   "metadata": {},
   "source": [
    "## Analysis based on number of rooms"
   ]
  },
  {
   "cell_type": "code",
   "execution_count": 100,
   "id": "9345214a",
   "metadata": {
    "ExecuteTime": {
     "end_time": "2021-11-03T22:36:50.290727Z",
     "start_time": "2021-11-03T22:36:50.283322Z"
    }
   },
   "outputs": [
    {
     "data": {
      "text/plain": [
       "Room\n",
       "3     330\n",
       "4     200\n",
       "2     191\n",
       "5      97\n",
       "6      42\n",
       "7      19\n",
       "1      17\n",
       "8      11\n",
       "9       6\n",
       "10      2\n",
       "13      2\n",
       "14      2\n",
       "Name: Address, dtype: int64"
      ]
     },
     "execution_count": 100,
     "metadata": {},
     "output_type": "execute_result"
    }
   ],
   "source": [
    "df7.groupby(['Room']).Address.count().sort_values(ascending = False)"
   ]
  },
  {
   "cell_type": "code",
   "execution_count": 101,
   "id": "11f07d87",
   "metadata": {
    "ExecuteTime": {
     "end_time": "2021-11-03T22:36:55.891979Z",
     "start_time": "2021-11-03T22:36:55.876857Z"
    }
   },
   "outputs": [
    {
     "data": {
      "text/html": [
       "<div>\n",
       "<style scoped>\n",
       "    .dataframe tbody tr th:only-of-type {\n",
       "        vertical-align: middle;\n",
       "    }\n",
       "\n",
       "    .dataframe tbody tr th {\n",
       "        vertical-align: top;\n",
       "    }\n",
       "\n",
       "    .dataframe thead th {\n",
       "        text-align: right;\n",
       "    }\n",
       "</style>\n",
       "<table border=\"1\" class=\"dataframe\">\n",
       "  <thead>\n",
       "    <tr style=\"text-align: right;\">\n",
       "      <th></th>\n",
       "      <th>mean</th>\n",
       "      <th>min</th>\n",
       "      <th>max</th>\n",
       "    </tr>\n",
       "    <tr>\n",
       "      <th>Room</th>\n",
       "      <th></th>\n",
       "      <th></th>\n",
       "      <th></th>\n",
       "    </tr>\n",
       "  </thead>\n",
       "  <tbody>\n",
       "    <tr>\n",
       "      <th>1</th>\n",
       "      <td>3.945294e+05</td>\n",
       "      <td>175000.0</td>\n",
       "      <td>950000.0</td>\n",
       "    </tr>\n",
       "    <tr>\n",
       "      <th>2</th>\n",
       "      <td>3.834791e+05</td>\n",
       "      <td>179000.0</td>\n",
       "      <td>1450000.0</td>\n",
       "    </tr>\n",
       "    <tr>\n",
       "      <th>3</th>\n",
       "      <td>5.124164e+05</td>\n",
       "      <td>225000.0</td>\n",
       "      <td>2475000.0</td>\n",
       "    </tr>\n",
       "    <tr>\n",
       "      <th>4</th>\n",
       "      <td>6.111506e+05</td>\n",
       "      <td>260000.0</td>\n",
       "      <td>3680000.0</td>\n",
       "    </tr>\n",
       "    <tr>\n",
       "      <th>5</th>\n",
       "      <td>8.450764e+05</td>\n",
       "      <td>265000.0</td>\n",
       "      <td>4495000.0</td>\n",
       "    </tr>\n",
       "    <tr>\n",
       "      <th>6</th>\n",
       "      <td>9.199286e+05</td>\n",
       "      <td>350000.0</td>\n",
       "      <td>2500000.0</td>\n",
       "    </tr>\n",
       "    <tr>\n",
       "      <th>7</th>\n",
       "      <td>1.394737e+06</td>\n",
       "      <td>600000.0</td>\n",
       "      <td>3925000.0</td>\n",
       "    </tr>\n",
       "    <tr>\n",
       "      <th>8</th>\n",
       "      <td>1.751636e+06</td>\n",
       "      <td>700000.0</td>\n",
       "      <td>3500000.0</td>\n",
       "    </tr>\n",
       "    <tr>\n",
       "      <th>9</th>\n",
       "      <td>1.450000e+06</td>\n",
       "      <td>900000.0</td>\n",
       "      <td>1775000.0</td>\n",
       "    </tr>\n",
       "    <tr>\n",
       "      <th>10</th>\n",
       "      <td>4.300000e+06</td>\n",
       "      <td>2650000.0</td>\n",
       "      <td>5950000.0</td>\n",
       "    </tr>\n",
       "    <tr>\n",
       "      <th>13</th>\n",
       "      <td>4.725000e+06</td>\n",
       "      <td>4550000.0</td>\n",
       "      <td>4900000.0</td>\n",
       "    </tr>\n",
       "    <tr>\n",
       "      <th>14</th>\n",
       "      <td>3.772500e+06</td>\n",
       "      <td>1695000.0</td>\n",
       "      <td>5850000.0</td>\n",
       "    </tr>\n",
       "  </tbody>\n",
       "</table>\n",
       "</div>"
      ],
      "text/plain": [
       "              mean        min        max\n",
       "Room                                    \n",
       "1     3.945294e+05   175000.0   950000.0\n",
       "2     3.834791e+05   179000.0  1450000.0\n",
       "3     5.124164e+05   225000.0  2475000.0\n",
       "4     6.111506e+05   260000.0  3680000.0\n",
       "5     8.450764e+05   265000.0  4495000.0\n",
       "6     9.199286e+05   350000.0  2500000.0\n",
       "7     1.394737e+06   600000.0  3925000.0\n",
       "8     1.751636e+06   700000.0  3500000.0\n",
       "9     1.450000e+06   900000.0  1775000.0\n",
       "10    4.300000e+06  2650000.0  5950000.0\n",
       "13    4.725000e+06  4550000.0  4900000.0\n",
       "14    3.772500e+06  1695000.0  5850000.0"
      ]
     },
     "execution_count": 101,
     "metadata": {},
     "output_type": "execute_result"
    }
   ],
   "source": [
    "df7.groupby(['Room']).Price.agg(['mean', 'min', 'max'])"
   ]
  },
  {
   "cell_type": "code",
   "execution_count": 102,
   "id": "f1bb514e",
   "metadata": {
    "ExecuteTime": {
     "end_time": "2021-11-03T22:36:58.318219Z",
     "start_time": "2021-11-03T22:36:58.301804Z"
    }
   },
   "outputs": [
    {
     "data": {
      "text/html": [
       "<div>\n",
       "<style scoped>\n",
       "    .dataframe tbody tr th:only-of-type {\n",
       "        vertical-align: middle;\n",
       "    }\n",
       "\n",
       "    .dataframe tbody tr th {\n",
       "        vertical-align: top;\n",
       "    }\n",
       "\n",
       "    .dataframe thead th {\n",
       "        text-align: right;\n",
       "    }\n",
       "</style>\n",
       "<table border=\"1\" class=\"dataframe\">\n",
       "  <thead>\n",
       "    <tr style=\"text-align: right;\">\n",
       "      <th></th>\n",
       "      <th>mean</th>\n",
       "      <th>min</th>\n",
       "      <th>max</th>\n",
       "    </tr>\n",
       "    <tr>\n",
       "      <th>Room</th>\n",
       "      <th></th>\n",
       "      <th></th>\n",
       "      <th></th>\n",
       "    </tr>\n",
       "  </thead>\n",
       "  <tbody>\n",
       "    <tr>\n",
       "      <th>1</th>\n",
       "      <td>7844.188322</td>\n",
       "      <td>3484.496124</td>\n",
       "      <td>11956.521739</td>\n",
       "    </tr>\n",
       "    <tr>\n",
       "      <th>2</th>\n",
       "      <td>7252.434729</td>\n",
       "      <td>3409.090909</td>\n",
       "      <td>16000.000000</td>\n",
       "    </tr>\n",
       "    <tr>\n",
       "      <th>3</th>\n",
       "      <td>6444.175147</td>\n",
       "      <td>2976.190476</td>\n",
       "      <td>16666.666667</td>\n",
       "    </tr>\n",
       "    <tr>\n",
       "      <th>4</th>\n",
       "      <td>5781.493228</td>\n",
       "      <td>2783.018868</td>\n",
       "      <td>13524.590164</td>\n",
       "    </tr>\n",
       "    <tr>\n",
       "      <th>5</th>\n",
       "      <td>6214.480878</td>\n",
       "      <td>2431.192661</td>\n",
       "      <td>25252.808989</td>\n",
       "    </tr>\n",
       "    <tr>\n",
       "      <th>6</th>\n",
       "      <td>5984.665348</td>\n",
       "      <td>2430.555556</td>\n",
       "      <td>15500.000000</td>\n",
       "    </tr>\n",
       "    <tr>\n",
       "      <th>7</th>\n",
       "      <td>6683.847610</td>\n",
       "      <td>4109.589041</td>\n",
       "      <td>12304.075235</td>\n",
       "    </tr>\n",
       "    <tr>\n",
       "      <th>8</th>\n",
       "      <td>6897.005908</td>\n",
       "      <td>3473.913043</td>\n",
       "      <td>10057.471264</td>\n",
       "    </tr>\n",
       "    <tr>\n",
       "      <th>9</th>\n",
       "      <td>7300.009220</td>\n",
       "      <td>5660.377358</td>\n",
       "      <td>10028.248588</td>\n",
       "    </tr>\n",
       "    <tr>\n",
       "      <th>10</th>\n",
       "      <td>10974.534031</td>\n",
       "      <td>6847.545220</td>\n",
       "      <td>15101.522843</td>\n",
       "    </tr>\n",
       "    <tr>\n",
       "      <th>13</th>\n",
       "      <td>8510.049058</td>\n",
       "      <td>7865.168539</td>\n",
       "      <td>9154.929577</td>\n",
       "    </tr>\n",
       "    <tr>\n",
       "      <th>14</th>\n",
       "      <td>7908.525161</td>\n",
       "      <td>3629.550321</td>\n",
       "      <td>12187.500000</td>\n",
       "    </tr>\n",
       "  </tbody>\n",
       "</table>\n",
       "</div>"
      ],
      "text/plain": [
       "              mean          min           max\n",
       "Room                                         \n",
       "1      7844.188322  3484.496124  11956.521739\n",
       "2      7252.434729  3409.090909  16000.000000\n",
       "3      6444.175147  2976.190476  16666.666667\n",
       "4      5781.493228  2783.018868  13524.590164\n",
       "5      6214.480878  2431.192661  25252.808989\n",
       "6      5984.665348  2430.555556  15500.000000\n",
       "7      6683.847610  4109.589041  12304.075235\n",
       "8      6897.005908  3473.913043  10057.471264\n",
       "9      7300.009220  5660.377358  10028.248588\n",
       "10    10974.534031  6847.545220  15101.522843\n",
       "13     8510.049058  7865.168539   9154.929577\n",
       "14     7908.525161  3629.550321  12187.500000"
      ]
     },
     "execution_count": 102,
     "metadata": {},
     "output_type": "execute_result"
    }
   ],
   "source": [
    "df7.groupby(['Room']).Price_per_sqm.agg(['mean', 'min', 'max'])"
   ]
  },
  {
   "cell_type": "markdown",
   "id": "71bf72eb",
   "metadata": {},
   "source": [
    "## Analysis based on Zip code (numeric part of the Zip)"
   ]
  },
  {
   "cell_type": "code",
   "execution_count": 124,
   "id": "23d2c614",
   "metadata": {
    "ExecuteTime": {
     "end_time": "2021-11-04T00:04:16.302957Z",
     "start_time": "2021-11-04T00:04:16.289606Z"
    }
   },
   "outputs": [
    {
     "data": {
      "text/html": [
       "<div>\n",
       "<style scoped>\n",
       "    .dataframe tbody tr th:only-of-type {\n",
       "        vertical-align: middle;\n",
       "    }\n",
       "\n",
       "    .dataframe tbody tr th {\n",
       "        vertical-align: top;\n",
       "    }\n",
       "\n",
       "    .dataframe thead th {\n",
       "        text-align: right;\n",
       "    }\n",
       "</style>\n",
       "<table border=\"1\" class=\"dataframe\">\n",
       "  <thead>\n",
       "    <tr style=\"text-align: right;\">\n",
       "      <th></th>\n",
       "      <th>mean</th>\n",
       "      <th>min</th>\n",
       "      <th>max</th>\n",
       "    </tr>\n",
       "    <tr>\n",
       "      <th>Zip_number</th>\n",
       "      <th></th>\n",
       "      <th></th>\n",
       "      <th></th>\n",
       "    </tr>\n",
       "  </thead>\n",
       "  <tbody>\n",
       "    <tr>\n",
       "      <th>1011</th>\n",
       "      <td>7.453750e+05</td>\n",
       "      <td>389000.0</td>\n",
       "      <td>1500000.0</td>\n",
       "    </tr>\n",
       "    <tr>\n",
       "      <th>1012</th>\n",
       "      <td>1.093533e+06</td>\n",
       "      <td>340000.0</td>\n",
       "      <td>4495000.0</td>\n",
       "    </tr>\n",
       "    <tr>\n",
       "      <th>1013</th>\n",
       "      <td>5.758696e+05</td>\n",
       "      <td>275000.0</td>\n",
       "      <td>1950000.0</td>\n",
       "    </tr>\n",
       "    <tr>\n",
       "      <th>1014</th>\n",
       "      <td>9.630000e+05</td>\n",
       "      <td>475000.0</td>\n",
       "      <td>1450000.0</td>\n",
       "    </tr>\n",
       "    <tr>\n",
       "      <th>1015</th>\n",
       "      <td>9.377727e+05</td>\n",
       "      <td>250000.0</td>\n",
       "      <td>3500000.0</td>\n",
       "    </tr>\n",
       "    <tr>\n",
       "      <th>...</th>\n",
       "      <td>...</td>\n",
       "      <td>...</td>\n",
       "      <td>...</td>\n",
       "    </tr>\n",
       "    <tr>\n",
       "      <th>1104</th>\n",
       "      <td>3.500098e+05</td>\n",
       "      <td>250000.0</td>\n",
       "      <td>600000.0</td>\n",
       "    </tr>\n",
       "    <tr>\n",
       "      <th>1106</th>\n",
       "      <td>3.089000e+05</td>\n",
       "      <td>209000.0</td>\n",
       "      <td>395000.0</td>\n",
       "    </tr>\n",
       "    <tr>\n",
       "      <th>1107</th>\n",
       "      <td>2.996667e+05</td>\n",
       "      <td>225000.0</td>\n",
       "      <td>425000.0</td>\n",
       "    </tr>\n",
       "    <tr>\n",
       "      <th>1108</th>\n",
       "      <td>3.250000e+05</td>\n",
       "      <td>300000.0</td>\n",
       "      <td>350000.0</td>\n",
       "    </tr>\n",
       "    <tr>\n",
       "      <th>1109</th>\n",
       "      <td>5.120005e+05</td>\n",
       "      <td>475000.0</td>\n",
       "      <td>549001.0</td>\n",
       "    </tr>\n",
       "  </tbody>\n",
       "</table>\n",
       "<p>70 rows × 3 columns</p>\n",
       "</div>"
      ],
      "text/plain": [
       "                    mean       min        max\n",
       "Zip_number                                   \n",
       "1011        7.453750e+05  389000.0  1500000.0\n",
       "1012        1.093533e+06  340000.0  4495000.0\n",
       "1013        5.758696e+05  275000.0  1950000.0\n",
       "1014        9.630000e+05  475000.0  1450000.0\n",
       "1015        9.377727e+05  250000.0  3500000.0\n",
       "...                  ...       ...        ...\n",
       "1104        3.500098e+05  250000.0   600000.0\n",
       "1106        3.089000e+05  209000.0   395000.0\n",
       "1107        2.996667e+05  225000.0   425000.0\n",
       "1108        3.250000e+05  300000.0   350000.0\n",
       "1109        5.120005e+05  475000.0   549001.0\n",
       "\n",
       "[70 rows x 3 columns]"
      ]
     },
     "execution_count": 124,
     "metadata": {},
     "output_type": "execute_result"
    }
   ],
   "source": [
    "df7.groupby(['Zip_number']).Price.agg(['mean', 'min', 'max'])"
   ]
  },
  {
   "cell_type": "code",
   "execution_count": 125,
   "id": "9475c939",
   "metadata": {
    "ExecuteTime": {
     "end_time": "2021-11-04T00:04:37.976636Z",
     "start_time": "2021-11-04T00:04:37.968817Z"
    }
   },
   "outputs": [
    {
     "data": {
      "text/plain": [
       "Zip_number\n",
       "1017    31\n",
       "1055    29\n",
       "1053    26\n",
       "1068    26\n",
       "1018    25\n",
       "        ..\n",
       "1023     4\n",
       "1108     3\n",
       "1109     2\n",
       "1028     2\n",
       "1022     1\n",
       "Name: Address, Length: 70, dtype: int64"
      ]
     },
     "execution_count": 125,
     "metadata": {},
     "output_type": "execute_result"
    }
   ],
   "source": [
    "df7.groupby(['Zip_number']).Address.count().sort_values(ascending = False)"
   ]
  },
  {
   "cell_type": "code",
   "execution_count": 134,
   "id": "4baa7c7f",
   "metadata": {
    "ExecuteTime": {
     "end_time": "2021-11-04T00:14:19.627616Z",
     "start_time": "2021-11-04T00:14:18.018041Z"
    }
   },
   "outputs": [
    {
     "data": {
      "text/plain": [
       "<AxesSubplot:xlabel='Zip_number'>"
      ]
     },
     "execution_count": 134,
     "metadata": {},
     "output_type": "execute_result"
    },
    {
     "data": {
      "image/png": "[encoded data removed]",
      "text/plain": [
       "<Figure size 1440x360 with 1 Axes>"
      ]
     },
     "metadata": {},
     "output_type": "display_data"
    }
   ],
   "source": [
    "# Number of house sales Vs Zip Code (i.e location)\n",
    "df7.groupby(['Zip_number']).Address.count().sort_values(ascending = False).plot(figsize=(20, 5),kind=\"bar\")"
   ]
  },
  {
   "cell_type": "markdown",
   "id": "7f8c197e",
   "metadata": {},
   "source": [
    "Maximum house sales are at 1017 zip code"
   ]
  },
  {
   "cell_type": "markdown",
   "id": "6d89cbb2",
   "metadata": {},
   "source": [
    "## Price Vs Distance from City Center"
   ]
  },
  {
   "cell_type": "code",
   "execution_count": 110,
   "id": "6f0690c3",
   "metadata": {
    "ExecuteTime": {
     "end_time": "2021-11-03T23:13:02.913669Z",
     "start_time": "2021-11-03T23:13:02.701135Z"
    }
   },
   "outputs": [
    {
     "data": {
      "text/plain": [
       "Text(0.5, 1.02, 'Price Vs Distance from City Center (KMs)')"
      ]
     },
     "execution_count": 110,
     "metadata": {},
     "output_type": "execute_result"
    },
    {
     "data": {
      "image/png": "[encoded data removed]",
      "text/plain": [
       "<Figure size 1080x576 with 1 Axes>"
      ]
     },
     "metadata": {},
     "output_type": "display_data"
    }
   ],
   "source": [
    "sns.set(font_scale=1.4)\n",
    "df7.set_index('Dist From Amsterdam Central (km)')['Price'].plot(figsize=(15, 8), linewidth=2.5, color='maroon')\n",
    "plt.xlabel(\"Dist From Amsterdam Central (km)\", labelpad=15)\n",
    "plt.ylabel(\"Price\", labelpad=15)\n",
    "plt.title(\"Price Vs Distance from City Center (KMs)\", y=1.02, fontsize=22)"
   ]
  },
  {
   "cell_type": "markdown",
   "id": "c6f1623d",
   "metadata": {},
   "source": [
    "## Price/Sqm Vs Distance from City Center"
   ]
  },
  {
   "cell_type": "code",
   "execution_count": 67,
   "id": "bd86f06f",
   "metadata": {
    "ExecuteTime": {
     "end_time": "2021-11-03T21:40:40.581620Z",
     "start_time": "2021-11-03T21:40:40.364412Z"
    }
   },
   "outputs": [
    {
     "data": {
      "text/plain": [
       "Text(0.5, 1.02, 'Price/Sqm Vs Distance from City Center (KMs)')"
      ]
     },
     "execution_count": 67,
     "metadata": {},
     "output_type": "execute_result"
    },
    {
     "data": {
      "image/png": "[encoded data removed]",
      "text/plain": [
       "<Figure size 1080x576 with 1 Axes>"
      ]
     },
     "metadata": {},
     "output_type": "display_data"
    }
   ],
   "source": [
    "sns.set(font_scale=1.4)\n",
    "df7.set_index('Dist From Amsterdam Central (km)')['Price_per_sqm'].plot(figsize=(15, 8), linewidth=2.5, color='maroon')\n",
    "plt.xlabel(\"Dist From Amsterdam Central (km)\", labelpad=15)\n",
    "plt.ylabel(\"Price Per Square Meter\", labelpad=15)\n",
    "plt.title(\"Price/Sqm Vs Distance from City Center (KMs)\", y=1.02, fontsize=22)"
   ]
  },
  {
   "cell_type": "code",
   "execution_count": 148,
   "id": "1781086e",
   "metadata": {
    "ExecuteTime": {
     "end_time": "2021-11-04T00:22:35.606963Z",
     "start_time": "2021-11-04T00:22:35.597638Z"
    }
   },
   "outputs": [
    {
     "data": {
      "text/plain": [
       "count    919.000000\n",
       "mean       4.183841\n",
       "std        2.502923\n",
       "min        0.330000\n",
       "25%        2.395000\n",
       "50%        3.560000\n",
       "75%        5.450000\n",
       "max       17.360000\n",
       "Name: Dist From Amsterdam Central (km), dtype: float64"
      ]
     },
     "execution_count": 148,
     "metadata": {},
     "output_type": "execute_result"
    }
   ],
   "source": [
    "df7['Dist From Amsterdam Central (km)'].describe()"
   ]
  },
  {
   "cell_type": "code",
   "execution_count": 147,
   "id": "e2629084",
   "metadata": {
    "ExecuteTime": {
     "end_time": "2021-11-04T00:22:13.174017Z",
     "start_time": "2021-11-04T00:22:13.006569Z"
    }
   },
   "outputs": [
    {
     "data": {
      "image/png": "[encoded data removed]",
      "text/plain": [
       "<Figure size 432x288 with 1 Axes>"
      ]
     },
     "metadata": {},
     "output_type": "display_data"
    }
   ],
   "source": [
    "## Number of house sales Vs Distance from the City Center\n",
    "df7['Dist From Amsterdam Central (km)'].plot(kind=\"hist\",bins=7); # pls add x and y labels"
   ]
  },
  {
   "cell_type": "markdown",
   "id": "50528e22",
   "metadata": {},
   "source": [
    "Most of the houses sold are within 5kms of the city center."
   ]
  },
  {
   "cell_type": "markdown",
   "id": "df4b488a",
   "metadata": {},
   "source": [
    "## Area vs. Price"
   ]
  },
  {
   "cell_type": "code",
   "execution_count": 112,
   "id": "cdde6f0b",
   "metadata": {
    "ExecuteTime": {
     "end_time": "2021-11-03T23:21:52.757631Z",
     "start_time": "2021-11-03T23:21:52.516739Z"
    }
   },
   "outputs": [
    {
     "data": {
      "image/png": "[encoded data removed]",
      "text/plain": [
       "<Figure size 960x480 with 1 Axes>"
      ]
     },
     "metadata": {},
     "output_type": "display_data"
    }
   ],
   "source": [
    "plt.figure(figsize=(12, 6), dpi=80)\n",
    "plt.scatter(df7['Area'],df7['Price'], s=20, edgecolor=\"red\", c=\"pink\", label=\"Surface Area\")\n",
    "plt.xlabel(\"Area\")\n",
    "plt.ylabel(\"Price\")\n",
    "plt.title(\"Area vs. Price\")\n",
    "plt.legend()\n",
    "plt.show()"
   ]
  },
  {
   "cell_type": "markdown",
   "id": "a0aca795",
   "metadata": {},
   "source": [
    "Bigger the house , higher the price.There is a clear upwards sloping trend relationship between the surface area of the house and the price oof the house."
   ]
  },
  {
   "cell_type": "markdown",
   "id": "70991f1c",
   "metadata": {},
   "source": [
    "## Area vs. Price/Sqm"
   ]
  },
  {
   "cell_type": "code",
   "execution_count": 68,
   "id": "1563a338",
   "metadata": {
    "ExecuteTime": {
     "end_time": "2021-11-03T21:40:59.165465Z",
     "start_time": "2021-11-03T21:40:58.914863Z"
    }
   },
   "outputs": [
    {
     "data": {
      "image/png": "[encoded data removed]",
      "text/plain": [
       "<Figure size 960x480 with 1 Axes>"
      ]
     },
     "metadata": {},
     "output_type": "display_data"
    }
   ],
   "source": [
    "plt.figure(figsize=(12, 6), dpi=80)\n",
    "plt.scatter(df7['Area'],df7['Price_per_sqm'], s=20, edgecolor=\"red\", c=\"pink\", label=\"Surface Area\")\n",
    "plt.xlabel(\"Area\")\n",
    "plt.ylabel(\"Price Per Square Meter\")\n",
    "plt.title(\"Area vs. Price/Sqm\")\n",
    "plt.legend()\n",
    "plt.show()"
   ]
  },
  {
   "cell_type": "markdown",
   "id": "d0881414",
   "metadata": {},
   "source": [
    "Interesting observation here is as the house gets bigger, the marginal price of an additional square meter decreases."
   ]
  },
  {
   "cell_type": "markdown",
   "id": "31485804",
   "metadata": {},
   "source": [
    "## Room vs. Price"
   ]
  },
  {
   "cell_type": "code",
   "execution_count": 52,
   "id": "92abf648",
   "metadata": {
    "ExecuteTime": {
     "end_time": "2021-11-03T13:51:55.897427Z",
     "start_time": "2021-11-03T13:51:55.657915Z"
    }
   },
   "outputs": [
    {
     "data": {
      "image/png": "[encoded data removed]",
      "text/plain": [
       "<Figure size 960x640 with 1 Axes>"
      ]
     },
     "metadata": {},
     "output_type": "display_data"
    }
   ],
   "source": [
    "plt.figure(figsize=(12, 8), dpi=80)\n",
    "plt.scatter(df7['Room'],df7['Price'], s=20, edgecolor=\"blue\", c=\"pink\", label=\"Room\")\n",
    "plt.xlabel(\"Room\")\n",
    "plt.ylabel(\"Price\")\n",
    "plt.title(\"Room vs. Price\")\n",
    "plt.legend()\n",
    "plt.show()"
   ]
  },
  {
   "cell_type": "markdown",
   "id": "24948ef9",
   "metadata": {},
   "source": [
    "The more the number of rooms are in a house, higher the price should be? Well, that is not what the graph shows as there are 7-rooms houses going for as little as 600000 EUR and as high as 3925000 EUR."
   ]
  },
  {
   "cell_type": "markdown",
   "id": "19b031a9",
   "metadata": {},
   "source": [
    "## Room vs. Price/Sqm"
   ]
  },
  {
   "cell_type": "code",
   "execution_count": 163,
   "id": "9b1f74a2",
   "metadata": {
    "ExecuteTime": {
     "end_time": "2021-11-04T00:43:32.591376Z",
     "start_time": "2021-11-04T00:43:32.588199Z"
    }
   },
   "outputs": [],
   "source": [
    "# Does it make sense?"
   ]
  },
  {
   "cell_type": "markdown",
   "id": "d981a354",
   "metadata": {},
   "source": [
    "## Which price range has highest and lowest sales?"
   ]
  },
  {
   "cell_type": "code",
   "execution_count": 162,
   "id": "776bd2f5",
   "metadata": {
    "ExecuteTime": {
     "end_time": "2021-11-04T00:36:45.904145Z",
     "start_time": "2021-11-04T00:36:45.694105Z"
    }
   },
   "outputs": [
    {
     "data": {
      "image/png": "[encoded data removed]",
      "text/plain": [
       "<Figure size 432x288 with 1 Axes>"
      ]
     },
     "metadata": {},
     "output_type": "display_data"
    }
   ],
   "source": [
    "df7.Price.plot(kind=\"hist\",bins=30); # how to get the price at each peak below?? Also pls add x and y labels"
   ]
  },
  {
   "cell_type": "markdown",
   "id": "a7ef3f26",
   "metadata": {},
   "source": [
    "Above histogram shows that the house price of budget around 500000 EUR are in the highest demand."
   ]
  }
 ],
 "metadata": {
  "kernelspec": {
   "display_name": "Python 3 (ipykernel)",
   "language": "python",
   "name": "python3"
  },
  "language_info": {
   "codemirror_mode": {
    "name": "ipython",
    "version": 3
   },
   "file_extension": ".py",
   "mimetype": "text/x-python",
   "name": "python",
   "nbconvert_exporter": "python",
   "pygments_lexer": "ipython3",
   "version": "3.9.5"
  },
  "toc": {
   "base_numbering": 1,
   "nav_menu": {},
   "number_sections": true,
   "sideBar": true,
   "skip_h1_title": false,
   "title_cell": "Table of Contents",
   "title_sidebar": "Contents",
   "toc_cell": false,
   "toc_position": {},
   "toc_section_display": true,
   "toc_window_display": true
  },
  "varInspector": {
   "cols": {
    "lenName": 16,
    "lenType": 16,
    "lenVar": 40
   },
   "kernels_config": {
    "python": {
     "delete_cmd_postfix": "",
     "delete_cmd_prefix": "del ",
     "library": "var_list.py",
     "varRefreshCmd": "print(var_dic_list())"
    },
    "r": {
     "delete_cmd_postfix": ") ",
     "delete_cmd_prefix": "rm(",
     "library": "var_list.r",
     "varRefreshCmd": "cat(var_dic_list()) "
    }
   },
   "types_to_exclude": [
    "module",
    "function",
    "builtin_function_or_method",
    "instance",
    "_Feature"
   ],
   "window_display": false
  }
 },
 "nbformat": 4,
 "nbformat_minor": 5
}
